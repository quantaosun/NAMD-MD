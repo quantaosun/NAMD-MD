{
 "cells": [
  {
   "cell_type": "markdown",
   "metadata": {
    "id": "VVaXwqhBl8ZC"
   },
   "source": [
    "\n",
    "# NAMD Protein-ligand complex MD Setup tutorial using Jupyter Notebook\n",
    "\n",
    "This notebook is wrritten by quantaosun@gmail.com in Shanghai, China, 2021. \n",
    "This notebook took PDB ID 7L10, the protease of SARS-CoV-2 with an inhibitor, as an example, relative work was firstly published on ACS Cent. Sci. 2021, 7, 3, 467–475, by William L. Jorgensen, Yale University."
   ]
  },
  {
   "cell_type": "markdown",
   "metadata": {
    "id": "aTCtNy4mnN_A"
   },
   "source": [
    "**The overall procedure is as below**\n",
    "0.   PDB structure check and fix with third-party tools or web server.\n",
    "1.   Installation of Anaconda,pymol, vmd, and openmm, pdbfixer\n",
    "2.   PDB ID provided by user\n",
    "3.   Separation of ligand and protein\n",
    "4.   Topology generation for ligand using LigParGen web server\n",
    "5.   Combine new ligand pdb and original protein, mannually renumber ligand atom\n",
    "6.   Generation of ionized.pdb and ionized.psf by VMD, with Charmm force field.\n",
    "7.   Generation of conf file for NAMD simulation. \n",
    "8.   NAMD simulation \n"
   ]
  },
  {
   "cell_type": "markdown",
   "metadata": {},
   "source": [
    "# Download Github repository and create conda env"
   ]
  },
  {
   "cell_type": "code",
   "execution_count": null,
   "metadata": {},
   "outputs": [],
   "source": [
    "$ git clone https://github.com/quantaosun/NAMD-MD\n",
    "$ cd NAMD-MD\n",
    "$ conda create -n NAMD-MD python=3.7\n",
    "$ conda activate NAMD-MD\n",
    "$ (NAMD-MD) conda install jupyter\n",
    "$ (NAMD-MD) jupyter notebook\n",
    "$ # If you have problem opening jupyter notebook\n",
    "$ # conda remove jupyter\n",
    "$ # sudo apt isntall jupyter\n",
    "$ # jupyter notebook"
   ]
  },
  {
   "cell_type": "markdown",
   "metadata": {},
   "source": [
    "# Starting Jupyter notebook and install dependencies, this may take a while"
   ]
  },
  {
   "cell_type": "code",
   "execution_count": 7,
   "metadata": {},
   "outputs": [
    {
     "name": "stdout",
     "output_type": "stream",
     "text": [
      "Collecting package metadata (current_repodata.json): done\n",
      "Solving environment: done\n",
      "\n",
      "# All requested packages already installed.\n",
      "\n",
      "yes: standard output: Broken pipe\n"
     ]
    }
   ],
   "source": [
    "! yes | conda install -c conda-forge vmd &> /dev/null\n",
    "#@title Install VMD\n",
    "!yes | conda install -c conda-forge pymol-open-source &> /dev/null\n",
    "#install openmm\n",
    "!yes | conda install -c conda-forge openmm &> /dev/null\n",
    "#install pdbfixer\n",
    "!yes | conda install -c conda-forge pdbfixer &> /dev/null\n",
    "#install open babel\n",
    "!yes|conda install -c openbabel openbabel\n",
    "#install visualization\n",
    "! pip install py3Dmol &> /dev/null\n",
    "#install rdkit\n",
    "!yes | conda install -c rdkit rdkit &> /dev/null"
   ]
  },
  {
   "cell_type": "markdown",
   "metadata": {},
   "source": [
    "# Use \"conda env list\" find your system path"
   ]
  },
  {
   "cell_type": "code",
   "execution_count": 8,
   "metadata": {},
   "outputs": [],
   "source": [
    "import sys\n",
    "sys.path.append('/home/sqt/anaconda3/envs/NAMD-MD/lib/python3.7/site-packages')\n",
    "#import rdkit for visualization purpose\n",
    "from rdkit import Chem\n",
    "from rdkit.Chem import AllChem\n",
    "from rdkit.Chem import Draw\n",
    "from rdkit.Chem.Draw import IPythonConsole\n",
    "from rdkit.Chem import DataStructs\n",
    "from rdkit.Chem import RDConfig\n",
    "from rdkit.Chem import rdBase\n",
    "from rdkit.Chem import MolFromPDBFile"
   ]
  },
  {
   "cell_type": "markdown",
   "metadata": {},
   "source": [
    "# Visually check if your protein has multiple chains or just a single one."
   ]
  },
  {
   "cell_type": "code",
   "execution_count": 9,
   "metadata": {
    "colab": {
     "base_uri": "https://localhost:8080/",
     "height": 514
    },
    "id": "pp1LY8czS5Ru",
    "outputId": "e727474b-e71e-4efa-a8ee-e3cf83514f0d"
   },
   "outputs": [
    {
     "data": {
      "application/3dmoljs_load.v0": "<div id=\"3dmolviewer_16384319206451087\"  style=\"position: relative; width: 640px; height: 480px\">\n        <p id=\"3dmolwarning_16384319206451087\" style=\"background-color:#ffcccc;color:black\">You appear to be running in JupyterLab (or JavaScript failed to load for some other reason).  You need to install the 3dmol extension: <br>\n        <tt>jupyter labextension install jupyterlab_3dmol</tt></p>\n        </div>\n<script>\n\nvar loadScriptAsync = function(uri){\n  return new Promise((resolve, reject) => {\n    var tag = document.createElement('script');\n    tag.src = uri;\n    tag.async = true;\n    tag.onload = () => {\n      resolve();\n    };\n  var firstScriptTag = document.getElementsByTagName('script')[0];\n  firstScriptTag.parentNode.insertBefore(tag, firstScriptTag);\n});\n};\n\nif(typeof $3Dmolpromise === 'undefined') {\n$3Dmolpromise = null;\n  $3Dmolpromise = loadScriptAsync('https://3dmol.org/build/3Dmol.js');\n}\n\nvar viewer_16384319206451087 = null;\nvar warn = document.getElementById(\"3dmolwarning_16384319206451087\");\nif(warn) {\n    warn.parentNode.removeChild(warn);\n}\n$3Dmolpromise.then(function() {\nviewer_16384319206451087 = $3Dmol.createViewer($(\"#3dmolviewer_16384319206451087\"),{backgroundColor:\"white\"});\n$3Dmol.download(\"pdb:7l10\", viewer_16384319206451087, {}, function() {\nviewer_16384319206451087.zoomTo();\n\tviewer_16384319206451087.setStyle({\"cartoon\": {\"color\": \"spectrum\"}});\nviewer_16384319206451087.render();\n})\n});\n</script>",
      "text/html": [
       "<div id=\"3dmolviewer_16384319206451087\"  style=\"position: relative; width: 640px; height: 480px\">\n",
       "        <p id=\"3dmolwarning_16384319206451087\" style=\"background-color:#ffcccc;color:black\">You appear to be running in JupyterLab (or JavaScript failed to load for some other reason).  You need to install the 3dmol extension: <br>\n",
       "        <tt>jupyter labextension install jupyterlab_3dmol</tt></p>\n",
       "        </div>\n",
       "<script>\n",
       "\n",
       "var loadScriptAsync = function(uri){\n",
       "  return new Promise((resolve, reject) => {\n",
       "    var tag = document.createElement('script');\n",
       "    tag.src = uri;\n",
       "    tag.async = true;\n",
       "    tag.onload = () => {\n",
       "      resolve();\n",
       "    };\n",
       "  var firstScriptTag = document.getElementsByTagName('script')[0];\n",
       "  firstScriptTag.parentNode.insertBefore(tag, firstScriptTag);\n",
       "});\n",
       "};\n",
       "\n",
       "if(typeof $3Dmolpromise === 'undefined') {\n",
       "$3Dmolpromise = null;\n",
       "  $3Dmolpromise = loadScriptAsync('https://3dmol.org/build/3Dmol.js');\n",
       "}\n",
       "\n",
       "var viewer_16384319206451087 = null;\n",
       "var warn = document.getElementById(\"3dmolwarning_16384319206451087\");\n",
       "if(warn) {\n",
       "    warn.parentNode.removeChild(warn);\n",
       "}\n",
       "$3Dmolpromise.then(function() {\n",
       "viewer_16384319206451087 = $3Dmol.createViewer($(\"#3dmolviewer_16384319206451087\"),{backgroundColor:\"white\"});\n",
       "$3Dmol.download(\"pdb:7l10\", viewer_16384319206451087, {}, function() {\n",
       "viewer_16384319206451087.zoomTo();\n",
       "\tviewer_16384319206451087.setStyle({\"cartoon\": {\"color\": \"spectrum\"}});\n",
       "viewer_16384319206451087.render();\n",
       "})\n",
       "});\n",
       "</script>"
      ]
     },
     "metadata": {},
     "output_type": "display_data"
    },
    {
     "data": {
      "text/plain": [
       "<py3Dmol.view at 0x7fee482242b0>"
      ]
     },
     "execution_count": 9,
     "metadata": {},
     "output_type": "execute_result"
    }
   ],
   "source": [
    "import py3Dmol\n",
    "view = py3Dmol.view(query='pdb:7l10')\n",
    "view.setStyle({'cartoon':{'color':'spectrum'}})\n",
    "view"
   ]
  },
  {
   "cell_type": "markdown",
   "metadata": {
    "id": "k4MHHzof6sYM"
   },
   "source": [
    "# Download PDB "
   ]
  },
  {
   "cell_type": "code",
   "execution_count": 4,
   "metadata": {
    "cellView": "form",
    "id": "Vx0M_FXDp74w"
   },
   "outputs": [
    {
     "name": "stdout",
     "output_type": "stream",
     "text": [
      "--2021-11-30 20:48:43--  https://files.rcsb.org/download/7L10.pdb\n",
      "Resolving files.rcsb.org (files.rcsb.org)... 132.249.210.134\n",
      "Connecting to files.rcsb.org (files.rcsb.org)|132.249.210.134|:443... connected.\n",
      "HTTP request sent, awaiting response... 200 OK\n",
      "Length: unspecified [application/octet-stream]\n",
      "Saving to: ‘7L10.pdb’\n",
      "\n",
      "7L10.pdb                [       <=>          ] 241.42K  7.09KB/s    in 29s     \n",
      "\n",
      "2021-11-30 20:49:14 (8.46 KB/s) - ‘7L10.pdb’ saved [247212]\n",
      "\n"
     ]
    }
   ],
   "source": [
    "PDB_ID = \"7L10???\" #@param {type:\"string\"}\n",
    "pdb = PDB_ID + \".pdb\"\n",
    "! wget https://files.rcsb.org/download/$pdb"
   ]
  },
  {
   "cell_type": "markdown",
   "metadata": {},
   "source": [
    "# (Optional) Skip pdbfixer if your protein has no missing loops"
   ]
  },
  {
   "cell_type": "code",
   "execution_count": null,
   "metadata": {},
   "outputs": [],
   "source": [
    "#Only use this if your protein has a broken backbone\n",
    "#!pdbfixer 7L10.pdb --keep-heterogens=none --add-atoms=heavy --ph=7.0 --replace-nonstandard --output=receptor.pdbfixer.pdb"
   ]
  },
  {
   "cell_type": "markdown",
   "metadata": {},
   "source": [
    "# What is the name of your ligand? Check it out on RCSB PDB website !"
   ]
  },
  {
   "cell_type": "code",
   "execution_count": 10,
   "metadata": {
    "scrolled": true
   },
   "outputs": [
    {
     "data": {
      "application/3dmoljs_load.v0": "<div id=\"3dmolviewer_1638431958103373\"  style=\"position: relative; width: 640px; height: 480px\">\n        <p id=\"3dmolwarning_1638431958103373\" style=\"background-color:#ffcccc;color:black\">You appear to be running in JupyterLab (or JavaScript failed to load for some other reason).  You need to install the 3dmol extension: <br>\n        <tt>jupyter labextension install jupyterlab_3dmol</tt></p>\n        </div>\n<script>\n\nvar loadScriptAsync = function(uri){\n  return new Promise((resolve, reject) => {\n    var tag = document.createElement('script');\n    tag.src = uri;\n    tag.async = true;\n    tag.onload = () => {\n      resolve();\n    };\n  var firstScriptTag = document.getElementsByTagName('script')[0];\n  firstScriptTag.parentNode.insertBefore(tag, firstScriptTag);\n});\n};\n\nif(typeof $3Dmolpromise === 'undefined') {\n$3Dmolpromise = null;\n  $3Dmolpromise = loadScriptAsync('https://3dmol.org/build/3Dmol.js');\n}\n\nvar viewer_1638431958103373 = null;\nvar warn = document.getElementById(\"3dmolwarning_1638431958103373\");\nif(warn) {\n    warn.parentNode.removeChild(warn);\n}\n$3Dmolpromise.then(function() {\nviewer_1638431958103373 = $3Dmol.createViewer($(\"#3dmolviewer_1638431958103373\"),{backgroundColor:\"white\"});\n$3Dmol.download(\"pdb:7L10\", viewer_1638431958103373, {}, function() {\nviewer_1638431958103373.setStyle({\"cartoon\": {\"colorscheme\": \"ssPyMol\"}, \"stick\": {\"radius\": 0.05}});\nviewer_1638431958103373.zoomTo();\n\tviewer_1638431958103373.setStyle({\"resn\": \"XEY\"},{\"stick\": {}});\n\tviewer_1638431958103373.zoomTo({\"resn\": \"XEY\"});\nviewer_1638431958103373.render();\n})\n});\n</script>",
      "text/html": [
       "<div id=\"3dmolviewer_1638431958103373\"  style=\"position: relative; width: 640px; height: 480px\">\n",
       "        <p id=\"3dmolwarning_1638431958103373\" style=\"background-color:#ffcccc;color:black\">You appear to be running in JupyterLab (or JavaScript failed to load for some other reason).  You need to install the 3dmol extension: <br>\n",
       "        <tt>jupyter labextension install jupyterlab_3dmol</tt></p>\n",
       "        </div>\n",
       "<script>\n",
       "\n",
       "var loadScriptAsync = function(uri){\n",
       "  return new Promise((resolve, reject) => {\n",
       "    var tag = document.createElement('script');\n",
       "    tag.src = uri;\n",
       "    tag.async = true;\n",
       "    tag.onload = () => {\n",
       "      resolve();\n",
       "    };\n",
       "  var firstScriptTag = document.getElementsByTagName('script')[0];\n",
       "  firstScriptTag.parentNode.insertBefore(tag, firstScriptTag);\n",
       "});\n",
       "};\n",
       "\n",
       "if(typeof $3Dmolpromise === 'undefined') {\n",
       "$3Dmolpromise = null;\n",
       "  $3Dmolpromise = loadScriptAsync('https://3dmol.org/build/3Dmol.js');\n",
       "}\n",
       "\n",
       "var viewer_1638431958103373 = null;\n",
       "var warn = document.getElementById(\"3dmolwarning_1638431958103373\");\n",
       "if(warn) {\n",
       "    warn.parentNode.removeChild(warn);\n",
       "}\n",
       "$3Dmolpromise.then(function() {\n",
       "viewer_1638431958103373 = $3Dmol.createViewer($(\"#3dmolviewer_1638431958103373\"),{backgroundColor:\"white\"});\n",
       "$3Dmol.download(\"pdb:7L10\", viewer_1638431958103373, {}, function() {\n",
       "viewer_1638431958103373.setStyle({\"cartoon\": {\"colorscheme\": \"ssPyMol\"}, \"stick\": {\"radius\": 0.05}});\n",
       "viewer_1638431958103373.zoomTo();\n",
       "\tviewer_1638431958103373.setStyle({\"resn\": \"XEY\"},{\"stick\": {}});\n",
       "\tviewer_1638431958103373.zoomTo({\"resn\": \"XEY\"});\n",
       "viewer_1638431958103373.render();\n",
       "})\n",
       "});\n",
       "</script>"
      ]
     },
     "metadata": {},
     "output_type": "display_data"
    },
    {
     "data": {
      "text/plain": [
       "<py3Dmol.view at 0x7fee27b3be20>"
      ]
     },
     "execution_count": 10,
     "metadata": {},
     "output_type": "execute_result"
    }
   ],
   "source": [
    "v = py3Dmol.view(query='pdb:7L10',style={'cartoon':{'colorscheme':'ssPyMol'},'stick':{'radius':0.05}})\n",
    "v.setStyle({'resn':'XEY'},{'stick':{}})\n",
    "v.zoomTo({'resn':'XEY'})"
   ]
  },
  {
   "cell_type": "markdown",
   "metadata": {},
   "source": [
    "# Split protein and ligand, input the PDB ID and Ligand ID."
   ]
  },
  {
   "cell_type": "code",
   "execution_count": 14,
   "metadata": {
    "cellView": "form",
    "id": "bAtKHO9H0wlX"
   },
   "outputs": [],
   "source": [
    "ligand_name = \"XEY????\" #@param {type:\"string\"}\n",
    "PDB_path = \"7L10.pdb??????\" #@param {type:\"string\"}\n",
    "!grep ATOM '{PDB_path}' > protein_no_H.pdb\n",
    "!grep HETATM '{PDB_path}' > ligand_1.pdb\n",
    "!grep '{ligand_name}' ligand_1.pdb > ligand_no_H.pdb"
   ]
  },
  {
   "cell_type": "markdown",
   "metadata": {},
   "source": [
    "# Add hydrogen to ligand"
   ]
  },
  {
   "cell_type": "code",
   "execution_count": 15,
   "metadata": {},
   "outputs": [
    {
     "name": "stdout",
     "output_type": "stream",
     "text": [
      "1 molecule converted\r\n"
     ]
    }
   ],
   "source": [
    "!obabel -ipdb ligand_no_H.pdb -opdb -O ligand_with_H.pdb -h"
   ]
  },
  {
   "cell_type": "markdown",
   "metadata": {
    "id": "1uVJRwrOPktm"
   },
   "source": [
    "# Uplaod ligand_with_H.pdb to LigParGen to generate PDB,PRM and RTF three files.  http://zarbi.chem.yale.edu/ligpargen/index.html "
   ]
  },
  {
   "cell_type": "code",
   "execution_count": 16,
   "metadata": {
    "colab": {
     "base_uri": "https://localhost:8080/"
    },
    "id": "XML_OXOj1Jag",
    "outputId": "a83373d7-f918-46c2-8ec7-94ec07965ffd",
    "scrolled": true
   },
   "outputs": [
    {
     "name": "stdout",
     "output_type": "stream",
     "text": [
      " PyMOL(TM) Molecular Graphics System, Version 2.5.0.\n",
      " Copyright (c) Schrodinger, LLC.\n",
      " All Rights Reserved.\n",
      " \n",
      "    Created by Warren L. DeLano, Ph.D. \n",
      " \n",
      "    PyMOL is user-supported open-source software.  Although some versions\n",
      "    are freely available, PyMOL is not in the public domain.\n",
      " \n",
      "    If PyMOL is helpful in your work or study, then please volunteer \n",
      "    support for our ongoing efforts to create open and affordable scientific\n",
      "    software by purchasing a PyMOL Maintenance and/or Support subscription.\n",
      "\n",
      "    More information can be found at \"http://www.pymol.org\".\n",
      " \n",
      "    Enter \"help\" for a list of commands.\n",
      "    Enter \"help <command-name>\" for information on a specific command.\n",
      "\n",
      " Hit ESC anytime to toggle between text and graphics.\n",
      "\n",
      " Detected 16 CPU cores.  Enabled multithreaded rendering.\n",
      "PyMOL>load protein_no_H.pdb\n",
      " CmdLoad: \"\" loaded as \"protein_no_H\".\n",
      "PyMOL>load XEY_51474E.pdb\n",
      " CmdLoad: \"\" loaded as \"XEY_51474E\".\n",
      "PyMOL>select all\n",
      " Selector: selection \"sele\" defined with 2388 atoms.\n",
      "PyMOL>save complex.pdb, all\n",
      " Save: wrote \"complex.pdb\".\n"
     ]
    }
   ],
   "source": [
    "com_file = open('combine_protien_ligand.pml','w')\n",
    "com_file.write('''\n",
    "load protein_no_H.pdb\n",
    "load XEY_51474E.pdb ???????????????\n",
    "select all\n",
    "save complex.pdb, all \n",
    "''')\n",
    "com_file.close()\n",
    "!pymol -c combine_protien_ligand.pml"
   ]
  },
  {
   "cell_type": "markdown",
   "metadata": {},
   "source": [
    "# Modify VMD script and run psfgen"
   ]
  },
  {
   "cell_type": "code",
   "execution_count": 17,
   "metadata": {},
   "outputs": [
    {
     "name": "stdout",
     "output_type": "stream",
     "text": [
      "/home/q/anaconda3/envs/NAMD-MD/lib/vmd_LINUXAMD64: /lib/x86_64-linux-gnu/libGL.so.1: no version information available (required by /home/q/anaconda3/envs/NAMD-MD/lib/vmd_LINUXAMD64)\n",
      "Info) VMD for LINUXAMD64, version 1.9.3 (November 30, 2016)\n",
      "Info) http://www.ks.uiuc.edu/Research/vmd/                         \n",
      "Info) Email questions and bug reports to vmd@ks.uiuc.edu           \n",
      "Info) Please include this reference in published work using VMD:   \n",
      "Info)    Humphrey, W., Dalke, A. and Schulten, K., `VMD - Visual   \n",
      "Info)    Molecular Dynamics', J. Molec. Graphics 1996, 14.1, 33-38.\n",
      "Info) -------------------------------------------------------------\n",
      "Info) Multithreading available, 16 CPUs detected.\n",
      "Info)   CPU features: SSE2 AVX AVX2 FMA \n",
      "Info) Free system memory: 13GB (87%)\n",
      "Info) No CUDA accelerator devices available.\n",
      "Warning) Unable to open dynamic library '/home/q/anaconda3/envs/NAMD-MD/lib/plugins/LINUXAMD64/molfile/hoomdplugin.so'.\n",
      "Warning) libexpat.so.0: failed to map segment from shared object\n",
      "Warning) Unable to dlopen '/home/q/anaconda3/envs/NAMD-MD/lib/plugins/LINUXAMD64/molfile/hoomdplugin.so':\n",
      "  Unable to dlopen plugin file /home/q/anaconda3/envs/NAMD-MD/lib/plugins/LINUXAMD64/molfile/hoomdplugin.so\n",
      "Info) Dynamically loaded 1 plugins in directory:\n",
      "Info) /home/q/anaconda3/envs/NAMD-MD/lib/plugins/LINUXAMD64/molfile\n",
      "ERROR) No molecules loaded.\n",
      "Info) Using plugin pdb for structure file complex.pdb\n",
      "Info) Using plugin pdb for coordinates from file complex.pdb\n",
      "Info) Determining bond structure from distance search ...\n",
      "Info) Eliminating bonds duplicated from existing structure...\n",
      "Info) Finished with coordinate file complex.pdb.\n",
      "Info) Analyzing structure ...\n",
      "Info)    Atoms: 2388\n",
      "Info)    Bonds: 2444\n",
      "Info)    Angles: 0  Dihedrals: 0  Impropers: 0  Cross-terms: 0\n",
      "Info)    Bondtypes: 0  Angletypes: 0  Dihedraltypes: 0  Impropertypes: 0\n",
      "Info)    Residues: 304\n",
      "Info)    Waters: 0\n",
      "Info)    Segments: 1\n",
      "Info)    Fragments: 3   Protein: 2   Nucleic: 0\n",
      "0\n",
      "atomselect0\n",
      "1\n",
      "Info) Opened coordinate file chainB.pdb for writing.\n",
      "Info) Finished with coordinate file chainB.pdb.\n",
      "Info) Opened coordinate file chainX.pdb for writing.\n",
      "Info) Finished with coordinate file chainX.pdb.\n",
      "1.6.4\n",
      "psfgen) reading topology file top_all36_prot.rtf\n",
      "\n",
      "psfgen) >>>>>>>>CHARMM36 All-Hydrogen Topology File for Proteins <<<<<<\n",
      "psfgen) >>>>> Includes phi, psi cross term map (CMAP) correction <<<<<<<\n",
      "psfgen) >>>>>>>>>>>>>>>>>>>>>>>>>> May 2011 <<<<<<<<<<<<<<<<<<<<<<<<<<<<\n",
      "psfgen)  All comments to the CHARMM web site: www.charmm.org\n",
      "psfgen)              parameter set discussion forum\n",
      "psfgen) \n",
      "psfgen) Created by CHARMM version 36 1\n",
      "psfgen) ERROR!  Failed to parse autogenerate statement.  Line 92: AUTO ANGLES DIHE PATCH\n",
      "\n",
      "psfgen) cross-term entries present in topology definitions\n",
      "psfgen) reading topology file XEY_51474E.rtf\n",
      "\n",
      "psfgen) aliasing residue SER atom HG to HG1\n",
      "psfgen) aliasing residue HIS to HSE\n",
      "psfgen) aliasing residue ILE atom CD1 to CD\n",
      "psfgen) building segment B\n",
      "psfgen) setting patch for first residue to ACE\n",
      "psfgen) setting patch for last residue to CT3\n",
      "psfgen) reading residues from pdb file chainB.pdb\n",
      "psfgen) extracted 303 residues from pdb file\n",
      "psfgen) Info: generating structure...psfgen) Info: skipping improper N-C-CA-HN at beginning of segment.\n",
      "psfgen) Info: skipping cross-term C-N-CA-C-N-CA-C-N at beginning of segment.\n",
      "psfgen) Info: skipping conformation C-N-CA-C at beginning of segment.\n",
      "psfgen) Info: skipping conformation C-CA-N-HN at beginning of segment.\n",
      "psfgen) Info: skipping bond C-N at end of segment.\n",
      "psfgen) Info: skipping improper C-CA-N-O at end of segment.\n",
      "psfgen) Info: skipping cross-term C-N-CA-C-N-CA-C-N at end of segment.\n",
      "psfgen) Info: skipping conformation CA-C-N-CA at end of segment.\n",
      "psfgen) Info: skipping conformation N-CA-C-O at end of segment.\n",
      "psfgen) Info: skipping conformation N-CA-C-N at end of segment.\n",
      "B:305 \n",
      "B:1 \n",
      "segment complete.\n",
      "psfgen) building segment X\n",
      "psfgen) setting patch for first residue to NONE\n",
      "psfgen) setting patch for last residue to NONE\n",
      "psfgen) reading residues from pdb file chainX.pdb\n",
      "psfgen) extracted 1 residues from pdb file\n",
      "psfgen) Info: generating structure...segment complete.\n",
      "psfgen) reading coordinates from pdb file chainB.pdb for segment B\n",
      "psfgen) reading coordinates from pdb file chainX.pdb for segment X\n",
      "psfgen) Info: guessing coordinates for 2306 atoms (5 non-hydrogen)\n",
      "psfgen) Warning: poorly guessed coordinates for 13 atoms (5 non-hydrogen):\n",
      "psfgen) Warning: poorly guessed coordinate for atom CAY\t SER:1\t  B\n",
      "psfgen) Warning: poorly guessed coordinate for atom HY1\t SER:1\t  B\n",
      "psfgen) Warning: poorly guessed coordinate for atom HY2\t SER:1\t  B\n",
      "psfgen) Warning: poorly guessed coordinate for atom HY3\t SER:1\t  B\n",
      "psfgen) Warning: poorly guessed coordinate for atom CY\t SER:1\t  B\n",
      "psfgen) Warning: poorly guessed coordinate for atom OY\t SER:1\t  B\n",
      "psfgen) Warning: poorly guessed coordinate for atom HN\t SER:1\t  B\n",
      "psfgen) Warning: poorly guessed coordinate for atom NT\t PHE:305\t  B\n",
      "psfgen) Warning: poorly guessed coordinate for atom HNT\t PHE:305\t  B\n",
      "psfgen) Warning: poorly guessed coordinate for atom CAT\t PHE:305\t  B\n",
      "psfgen) Warning: poorly guessed coordinate for atom HT1\t PHE:305\t  B\n",
      "psfgen) Warning: poorly guessed coordinate for atom HT2\t PHE:305\t  B\n",
      "psfgen) Warning: poorly guessed coordinate for atom HT3\t PHE:305\t  B\n",
      "psfgen) regenerating all angles\n",
      "psfgen) regenerating all dihedrals\n",
      "psfgen) Info: writing pdb file psf-complex.pdb\n",
      "psfgen) Info: Atoms with guessed coordinates will have occupancy of 0.0.\n",
      "psfgen) Info: pdb file complete.\n",
      "psfgen) Info: writing psf file psf-complex.psf\n",
      "psfgen) total of 4689 atoms\n",
      "psfgen) total of 4745 bonds\n",
      "psfgen) total of 8530 angles\n",
      "psfgen) total of 12482 dihedrals\n",
      "psfgen) total of 866 impropers\n",
      "psfgen) total of 0 explicit exclusions\n",
      "psfgen) Structure requires EXTended PSF format\n",
      "psfgen) total of 303 cross-terms\n",
      "psfgen) Info: psf file complete.\n",
      "Info) VMD for LINUXAMD64, version 1.9.3 (November 30, 2016)\n",
      "Info) Exiting normally.\n",
      "vmd > "
     ]
    }
   ],
   "source": [
    "com_file = open('psfgen.tcl','w')\n",
    "com_file.write('''\n",
    "#psfgen for a single-chained protein with a ligand bound\n",
    "mol delete all\n",
    "mol load pdb complex.pdb\n",
    "set bad [atomselect top \"resname ACE\"]\n",
    "if {[info exists bad]} {\n",
    "set chainB [atomselect top \"protein and not hydrogen and not resname ACE NME\"]\n",
    "set chainX [atomselect top \"residuetype nothing and not resname ACE NME\"]\n",
    "set flag 1\n",
    "} else {\n",
    "set chainB [atomselect top \"protein and not hydrogen\"]\n",
    "set chainX [atomselect top \"residuetype nothing\"]\n",
    "set flag 0}\n",
    "$chainB writepdb chainB.pdb\n",
    "$chainX writepdb chainX.pdb\n",
    "package require psfgen\n",
    "topology top_all36_prot.rtf\n",
    "topology XEY_51474E.rtf??????????????????\n",
    "pdbalias HIS HSD\n",
    "pdbalias atom SER HG HG1\n",
    "pdbalias residue HIS HSE\n",
    "pdbalias atom ILE CD1 CD\n",
    "if {$flag == 1} {\n",
    "segment B {\n",
    "  first ACE\n",
    "  last CT3\n",
    "  pdb chainB.pdb\n",
    "}\n",
    "} else {\n",
    "segment B {\n",
    "  first NONE\n",
    "  last NONE\n",
    "  pdb chainB.pdb\n",
    "}\n",
    "}\n",
    "segment X {\n",
    "  first NONE\n",
    "  last NONE\n",
    "  pdb chainX.pdb\n",
    "}\n",
    "coordpdb chainB.pdb B\n",
    "coordpdb chainX.pdb X\n",
    "guesscoord\n",
    "regenerate angles dihedrals\n",
    "writepdb psf-complex.pdb\n",
    "writepsf psf-complex.psf\n",
    "exit\n",
    "''')\n",
    "com_file.close()\n",
    "!vmd -dispdev text -e psfgen.tcl"
   ]
  },
  {
   "cell_type": "markdown",
   "metadata": {},
   "source": [
    "# Solvate the Complex and add ions "
   ]
  },
  {
   "cell_type": "code",
   "execution_count": 18,
   "metadata": {},
   "outputs": [
    {
     "name": "stdout",
     "output_type": "stream",
     "text": [
      "/home/q/anaconda3/envs/NAMD-MD/lib/vmd_LINUXAMD64: /lib/x86_64-linux-gnu/libGL.so.1: no version information available (required by /home/q/anaconda3/envs/NAMD-MD/lib/vmd_LINUXAMD64)\n",
      "Info) VMD for LINUXAMD64, version 1.9.3 (November 30, 2016)\n",
      "Info) http://www.ks.uiuc.edu/Research/vmd/                         \n",
      "Info) Email questions and bug reports to vmd@ks.uiuc.edu           \n",
      "Info) Please include this reference in published work using VMD:   \n",
      "Info)    Humphrey, W., Dalke, A. and Schulten, K., `VMD - Visual   \n",
      "Info)    Molecular Dynamics', J. Molec. Graphics 1996, 14.1, 33-38.\n",
      "Info) -------------------------------------------------------------\n",
      "Info) Multithreading available, 16 CPUs detected.\n",
      "Info)   CPU features: SSE2 AVX AVX2 FMA \n",
      "Info) Free system memory: 13GB (87%)\n",
      "Info) No CUDA accelerator devices available.\n",
      "Warning) Unable to open dynamic library '/home/q/anaconda3/envs/NAMD-MD/lib/plugins/LINUXAMD64/molfile/hoomdplugin.so'.\n",
      "Warning) libexpat.so.0: failed to map segment from shared object\n",
      "Warning) Unable to dlopen '/home/q/anaconda3/envs/NAMD-MD/lib/plugins/LINUXAMD64/molfile/hoomdplugin.so':\n",
      "  Unable to dlopen plugin file /home/q/anaconda3/envs/NAMD-MD/lib/plugins/LINUXAMD64/molfile/hoomdplugin.so\n",
      "Info) Dynamically loaded 1 plugins in directory:\n",
      "Info) /home/q/anaconda3/envs/NAMD-MD/lib/plugins/LINUXAMD64/molfile\n",
      "1.7\n",
      "psfplugin) Detected a Charmm PSF file\n",
      "psfplugin) Detected a Charmm PSF EXTEnded file\n",
      "Info) Using plugin psf for structure file psf-complex.psf\n",
      "Info) Analyzing structure ...\n",
      "Info)    Atoms: 4689\n",
      "Info)    Bonds: 4745\n",
      "Info)    Angles: 8530  Dihedrals: 12482  Impropers: 866  Cross-terms: 303\n",
      "Info)    Bondtypes: 0  Angletypes: 0  Dihedraltypes: 0  Impropertypes: 0\n",
      "Info)    Residues: 304\n",
      "Info)    Waters: 0\n",
      "Info)    Segments: 2\n",
      "Info)    Fragments: 2   Protein: 1   Nucleic: 0\n",
      "Info) Using plugin pdb for coordinates from file psf-complex.pdb\n",
      "Info) Finished with coordinate file psf-complex.pdb.\n",
      "Info) generating solute plus one replica of water...\n",
      "psfgen) reading structure from psf file psf-complex.psf\n",
      "psfgen) reading coordinates from pdb file psf-complex.pdb\n",
      "psfgen) reading structure from psf file /home/q/anaconda3/envs/NAMD-MD/lib/plugins/noarch/tcl/solvate1.7/wat.psf\n",
      "psfgen) psf file does not contain cross-terms\n",
      "psfgen) reading coordinates from pdb file /home/q/anaconda3/envs/NAMD-MD/lib/plugins/noarch/tcl/solvate1.7/wat.pdb\n",
      "psfgen) Info: writing psf file combine.psf\n",
      "psfgen) total of 32472 atoms\n",
      "psfgen) total of 23267 bonds\n",
      "psfgen) total of 27052 angles\n",
      "psfgen) total of 12482 dihedrals\n",
      "psfgen) total of 866 impropers\n",
      "psfgen) total of 0 explicit exclusions\n",
      "psfgen) Structure requires EXTended PSF format\n",
      "psfgen) total of 303 cross-terms\n",
      "psfgen) Info: psf file complete.\n",
      "psfgen) Info: writing pdb file combine.pdb\n",
      "psfgen) Info: pdb file complete.\n",
      "psfplugin) Detected a Charmm PSF file\n",
      "psfplugin) Detected a Charmm PSF EXTEnded file\n",
      "Info) Using plugin psf for structure file combine.psf\n",
      "Info) Analyzing structure ...\n",
      "Info)    Atoms: 32472\n",
      "Info)    Bonds: 23267\n",
      "Info)    Angles: 27052  Dihedrals: 12482  Impropers: 866  Cross-terms: 303\n",
      "Info)    Bondtypes: 0  Angletypes: 0  Dihedraltypes: 0  Impropertypes: 0\n",
      "Info)    Residues: 9565\n",
      "Info)    Waters: 9261\n",
      "Info)    Segments: 3\n",
      "Info)    Fragments: 9263   Protein: 1   Nucleic: 0\n",
      "Info) Using plugin pdb for coordinates from file combine.pdb\n",
      "Info) Finished with coordinate file combine.pdb.\n",
      "Info) generating water residue lists...\n",
      "Info) single water residue type, creating residue list...\n",
      "Info) replicating 8 water segments, 2 by 2 by 2\n",
      "psfgen) reading topology file /home/q/anaconda3/envs/NAMD-MD/lib/plugins/noarch/tcl/solvate1.7/wat.top\n",
      "\n",
      "psfgen) >>>>>> Combined CHARMM All-Hydrogen Topology File for <<<<<<<<<\n",
      "psfgen) >>>>>>>>> CHARMM22 Proteins and CHARMM27 Lipids <<<<<<<<<<\n",
      "psfgen) from\n",
      "psfgen) >>>>>>>>CHARMM22 All-Hydrogen Topology File for Proteins <<<<<<\n",
      "psfgen) >>>>>>>>>>>>>>>>>>>>> August 1999 <<<<<<<<<<<<<<<<<<<<<<<<<<<<<\n",
      "psfgen) >>>>>>> Direct comments to Alexander D. MacKerell Jr. <<<<<<<<<\n",
      "psfgen) >>>>>> 410-706-7442 or email: alex,mmiris.ab.umd.edu  <<<<<<<<<\n",
      "psfgen) and\n",
      "psfgen)   \\\\\\\\\\\\\\ CHARMM27 All-Hydrogen Lipid Topology File ///////\n",
      "psfgen)   \\\\\\\\\\\\\\\\\\\\\\\\\\\\\\\\\\\\ Developmental /////////////////////////\n",
      "psfgen) \t\tAlexander D. MacKerell Jr.\n",
      "psfgen) \t\t\tAugust 1999\n",
      "psfgen)  All comments to ADM jr.  email: alex,mmiris.ab.umd.edu\n",
      "psfgen) \t\ttelephone: 410-706-7442\n",
      "psfgen) \n",
      "psfgen) Created by CHARMM version 27 1\n",
      "psfgen) building segment WT1\n",
      "psfgen) setting patch for first residue to NONE\n",
      "psfgen) setting patch for last residue to NONE\n",
      "psfgen) Info: generating structure...segment complete.\n",
      "psfgen) building segment WT2\n",
      "psfgen) setting patch for first residue to NONE\n",
      "psfgen) setting patch for last residue to NONE\n",
      "psfgen) Info: generating structure...segment complete.\n",
      "psfgen) building segment WT3\n",
      "psfgen) setting patch for first residue to NONE\n",
      "psfgen) setting patch for last residue to NONE\n",
      "psfgen) Info: generating structure...segment complete.\n",
      "psfgen) building segment WT4\n",
      "psfgen) setting patch for first residue to NONE\n",
      "psfgen) setting patch for last residue to NONE\n",
      "psfgen) Info: generating structure...segment complete.\n",
      "psfgen) building segment WT5\n",
      "psfgen) setting patch for first residue to NONE\n",
      "psfgen) setting patch for last residue to NONE\n",
      "psfgen) Info: generating structure...segment complete.\n",
      "psfgen) building segment WT6\n",
      "psfgen) setting patch for first residue to NONE\n",
      "psfgen) setting patch for last residue to NONE\n",
      "psfgen) Info: generating structure...segment complete.\n",
      "psfgen) building segment WT7\n",
      "psfgen) setting patch for first residue to NONE\n",
      "psfgen) setting patch for last residue to NONE\n",
      "psfgen) Info: generating structure...segment complete.\n",
      "psfgen) building segment WT8\n",
      "psfgen) setting patch for first residue to NONE\n",
      "psfgen) setting patch for last residue to NONE\n",
      "psfgen) Info: generating structure...segment complete.\n",
      "psfgen) Info: writing psf file complex_wb.psf\n",
      "psfgen) total of 62298 atoms\n",
      "psfgen) total of 43151 bonds\n",
      "psfgen) total of 27733 angles\n",
      "psfgen) total of 12482 dihedrals\n",
      "psfgen) total of 866 impropers\n",
      "psfgen) total of 0 explicit exclusions\n",
      "psfgen) Structure requires EXTended PSF format\n",
      "psfgen) total of 303 cross-terms\n",
      "psfgen) Info: psf file complete.\n",
      "psfgen) Info: writing pdb file complex_wb.pdb\n",
      "psfgen) Info: pdb file complete.\n",
      "psfgen) clearing structure, preserving topology and aliases\n",
      "psfplugin) Detected a Charmm PSF file\n",
      "psfplugin) Detected a Charmm PSF EXTEnded file\n",
      "Info) Using plugin psf for structure file complex_wb.psf\n",
      "Info) Analyzing structure ...\n",
      "Info)    Atoms: 62298\n",
      "Info)    Bonds: 43151\n",
      "Info)    Angles: 27733  Dihedrals: 12482  Impropers: 866  Cross-terms: 303\n",
      "Info)    Bondtypes: 0  Angletypes: 0  Dihedraltypes: 0  Impropertypes: 0\n",
      "Info)    Residues: 19507\n",
      "Info)    Waters: 19203\n",
      "Info)    Segments: 10\n",
      "Info)    Fragments: 19205   Protein: 1   Nucleic: 0\n",
      "Info) Using plugin pdb for coordinates from file complex_wb.pdb\n",
      "Info) Finished with coordinate file complex_wb.pdb.\n",
      "Info) Opened coordinate file complex_wb.pdb for writing.\n",
      "Info) Finished with coordinate file complex_wb.pdb.\n",
      "Info) Extra structure overlap safety check...\n",
      "Info) Solvate completed successfully.\n",
      "1.4\n",
      "Autoionize) Reading complex_wb.psf/complex_wb.pdb...\n",
      "psfgen) clearing structure, preserving topology and aliases\n",
      "psfgen) reading structure from psf file complex_wb.psf\n",
      "psfgen) reading coordinates from pdb file complex_wb.pdb\n",
      "psfplugin) Detected a Charmm PSF file\n",
      "psfplugin) Detected a Charmm PSF EXTEnded file\n",
      "Info) Using plugin psf for structure file complex_wb.psf\n",
      "Info) Analyzing structure ...\n",
      "Info)    Atoms: 62298\n",
      "Info)    Bonds: 43151\n",
      "Info)    Angles: 27733  Dihedrals: 12482  Impropers: 866  Cross-terms: 303\n",
      "Info)    Bondtypes: 0  Angletypes: 0  Dihedraltypes: 0  Impropertypes: 0\n",
      "Info)    Residues: 19507\n",
      "Info)    Waters: 19203\n",
      "Info)    Segments: 10\n",
      "Info)    Fragments: 19205   Protein: 1   Nucleic: 0\n",
      "Info) Using plugin pdb for coordinates from file complex_wb.pdb\n",
      "Info) Finished with coordinate file complex_wb.pdb.\n",
      "Autoionize) System net charge before adding ions: -1.9998969695880078e.\n",
      "Autoionize) Number of ions required for neutralizing the system: 2 SOD and 0 CLA.\n",
      "Autoionize) Desired salt concentration: 0.15 mol/L.\n",
      "Autoionize) Ions to be placed:\n",
      "Autoionize)   56 SOD\n",
      "Autoionize)   54 CLA\n",
      "Autoionize) Required min distance from molecule: 5A.\n",
      "Autoionize) Required min distance between ions: 5A.\n",
      "Autoionize) Output file prefix 'ionized'.\n",
      "Autoionize) Ions will be added to segname ION.\n"
     ]
    },
    {
     "name": "stdout",
     "output_type": "stream",
     "text": [
      "Autoionize) Obtained positions for 110 ions.\n",
      "Autoionize) Tagged 110 water molecules for deletion.\n",
      "Autoionize) Deleted 110 water molecules.\n",
      "Autoionize) Reading CHARMM topology file...\n",
      "psfgen) reading topology file /home/q/anaconda3/envs/NAMD-MD/lib/plugins/noarch/tcl/readcharmmtop1.2/toppar_water_ions_namd.str\n",
      "\n",
      "psfgen)  Toplogy and parameter information for water and ions.\n",
      "psfgen) \n",
      "psfgen) reading topology from stream file\n",
      "psfgen)  Topology for water and ions\n",
      "psfgen) \n",
      "psfgen) 31  1\n",
      "psfgen)  Parameters for water and ions\n",
      "psfgen) \n",
      "psfgen) ERROR!  Failed to parse atom statement.  Line 152: ATOMS\n",
      "\n",
      "psfgen) duplicate type key HT\n",
      "psfgen) duplicate type key HX\n",
      "psfgen) duplicate type key OT\n",
      "psfgen) duplicate type key OX\n",
      "psfgen) duplicate type key LIT\n",
      "psfgen) duplicate type key SOD\n",
      "psfgen) duplicate type key MG\n",
      "psfgen) duplicate type key POT\n",
      "psfgen) duplicate type key CAL\n",
      "psfgen) duplicate type key RUB\n",
      "psfgen) duplicate type key CES\n",
      "psfgen) duplicate type key BAR\n",
      "psfgen) duplicate type key ZN\n",
      "psfgen) duplicate type key CAD\n",
      "psfgen) duplicate type key CLA\n",
      "psfgen) ERROR!  Failed to parse bond statement.  Line 169: BONDS\n",
      "\n",
      "psfgen) ERROR!  FAILED TO RECOGNIZE HT.  Line 178: HT    HT      0.0       1.5139  ! from TIPS3P geometry (for SHAKE w/PARAM)\n",
      "\n",
      "psfgen) ERROR!  FAILED TO RECOGNIZE HT.  Line 179: HT    OT    450.0       0.9572  ! from TIPS3P geometry\n",
      "\n",
      "psfgen) ERROR!  FAILED TO RECOGNIZE OX.  Line 180: OX    HX    545.0       0.9700  ! hydroxide ion\n",
      "\n",
      "psfgen) ERROR!  Failed to parse angle statement.  Line 182: ANGLES\n",
      "\n",
      "psfgen) ERROR!  FAILED TO RECOGNIZE HT.  Line 195: HT   OT   HT     55.0      104.52   ! FROM TIPS3P GEOMETRY\n",
      "\n",
      "psfgen) ERROR!  Failed to parse dihedral statement.  Line 197: DIHEDRALS\n",
      "\n",
      "psfgen) ERROR!  Failed to parse improper statement.  Line 210: IMPROPER\n",
      "\n",
      "psfgen) ERROR!  FAILED TO RECOGNIZE NONBONDED.  Line 221: NONBONDED nbxmod  5 atom cdiel shift vatom vdistance vswitch -\n",
      "\n",
      "psfgen) ERROR!  FAILED TO RECOGNIZE CUTNB.  Line 222: cutnb 14.0 ctofnb 12.0 ctonnb 10.0 eps 1.0 e14fac 1.0 wmin 1.5\n",
      "\n",
      "psfgen) ERROR!  FAILED TO RECOGNIZE HT.  Line 225: HT       0.0       -0.046     0.2245\n",
      "\n",
      "psfgen) ERROR!  FAILED TO RECOGNIZE OT.  Line 226: OT       0.0       -0.1521    1.7682\n",
      "\n",
      "psfgen) ERROR!  FAILED TO RECOGNIZE OX.  Line 229: OX     0.000000  -0.120000     1.700000 ! ALLOW   POL ION\n",
      "\n",
      "psfgen) ERROR!  FAILED TO RECOGNIZE HX.  Line 231: HX     0.000000  -0.046000     0.224500 ! ALLOW PEP POL SUL ARO ALC\n",
      "\n",
      "psfgen) ERROR!  FAILED TO RECOGNIZE LIT.  Line 235: LIT      0.0      -0.00233       1.2975  ! Lithium\n",
      "\n",
      "psfgen) ERROR!  FAILED TO RECOGNIZE SOD.  Line 237: SOD      0.0       -0.0469    1.41075  ! new CHARMM Sodium \n",
      "\n",
      "psfgen) ERROR!  FAILED TO RECOGNIZE MG.  Line 239: MG       0.0       -0.0150    1.18500   ! Magnesium\n",
      "\n",
      "psfgen) ERROR!  FAILED TO RECOGNIZE POT.  Line 241: POT      0.0       -0.0870    1.76375   ! Potassium\n",
      "\n",
      "psfgen) ERROR!  FAILED TO RECOGNIZE CAL.  Line 243: CAL      0.0       -0.120      1.367    ! Calcium\n",
      "\n",
      "psfgen) ERROR!  FAILED TO RECOGNIZE RUB.  Line 245: RUB      0.0000    -0.15      1.90      ! Rubidium\n",
      "\n",
      "psfgen) ERROR!  FAILED TO RECOGNIZE CES.  Line 247: CES      0.0       -0.1900    2.100     ! Cesium\n",
      "\n",
      "psfgen) ERROR!  FAILED TO RECOGNIZE BAR.  Line 249: BAR      0.0       -0.150     1.890     ! Barium\n",
      "\n",
      "psfgen) ERROR!  FAILED TO RECOGNIZE ZN.  Line 251: ZN     0.000000  -0.250000     1.090000 ! Zinc\n",
      "\n",
      "psfgen) ERROR!  FAILED TO RECOGNIZE CAD.  Line 253: CAD    0.000000  -0.120000     1.357000 ! Cadmium\n",
      "\n",
      "psfgen) ERROR!  FAILED TO RECOGNIZE CLA.  Line 255: CLA      0.0       -0.150      2.27     ! Chloride\n",
      "\n",
      "psfgen) ERROR!  FAILED TO RECOGNIZE NBFIX.  Line 258: NBFIX\n",
      "\n",
      "psfgen) ERROR!  FAILED TO RECOGNIZE SOD.  Line 261: SOD    CLA      -0.083875   3.731 !  From osmotic pressure calibration, J. Phys.Chem.Lett. 1:183-189\n",
      "\n",
      "psfgen) ERROR!  FAILED TO RECOGNIZE POT.  Line 262: POT    CLA      -0.114236   4.081 !  From osmotic pressure calibration, J. Phys.Chem.Lett. 1:183-189\n",
      "\n",
      "psfgen)  NBFix between carboxylate and sodium\n",
      "psfgen) \n",
      "psfgen) skipping statements at end of file due to end or return statement\n",
      "psfgen) building segment ION\n",
      "psfgen) setting patch for first residue to NONE\n",
      "psfgen) setting patch for last residue to NONE\n",
      "psfgen) Info: generating structure...segment complete.\n",
      "Autoionize) Randomizing ion positions...\n",
      "Autoionize) Assigning ion coordinates...\n",
      "psfgen) Info: writing psf file ionized.psf\n",
      "psfgen) total of 62078 atoms\n",
      "psfgen) total of 42931 bonds\n",
      "psfgen) total of 27623 angles\n",
      "psfgen) total of 12482 dihedrals\n",
      "psfgen) total of 866 impropers\n",
      "psfgen) total of 0 explicit exclusions\n",
      "psfgen) Structure requires EXTended PSF format\n",
      "psfgen) total of 303 cross-terms\n",
      "psfgen) Info: psf file complete.\n",
      "psfgen) Info: writing pdb file ionized.pdb\n",
      "psfgen) Info: pdb file complete.\n",
      "Autoionize) Loading new system with added ions...\n",
      "psfplugin) Detected a Charmm PSF file\n",
      "psfplugin) Detected a Charmm PSF EXTEnded file\n",
      "Info) Using plugin psf for structure file ionized.psf\n",
      "Info) Analyzing structure ...\n",
      "Info)    Atoms: 62078\n",
      "Info)    Bonds: 42931\n",
      "Info)    Angles: 27623  Dihedrals: 12482  Impropers: 866  Cross-terms: 303\n",
      "Info)    Bondtypes: 0  Angletypes: 0  Dihedraltypes: 0  Impropertypes: 0\n",
      "Info)    Residues: 19507\n",
      "Info)    Waters: 19093\n",
      "Info)    Segments: 11\n",
      "Info)    Fragments: 19205   Protein: 1   Nucleic: 0\n",
      "Info) Using plugin pdb for coordinates from file ionized.pdb\n",
      "Info) Finished with coordinate file ionized.pdb.\n",
      "Info) Opened coordinate file ionized.pdb for writing.\n",
      "Info) Finished with coordinate file ionized.pdb.\n",
      "Autoionize) System net charge after adding ions: 0.00010303041199222207e.\n",
      "Autoionize) All done.\n",
      "Info) VMD for LINUXAMD64, version 1.9.3 (November 30, 2016)\n",
      "Info) Exiting normally.\n",
      "vmd > "
     ]
    }
   ],
   "source": [
    "com_file = open('solvate.tcl','w')\n",
    "com_file.write('''\n",
    "package require solvate  \n",
    "solvate psf-complex.psf psf-complex.pdb -t 15 -o complex_wb \n",
    "package require autoionize\n",
    "autoionize -psf complex_wb.psf -pdb complex_wb.pdb -sc 0.15 -cation SOD -o ionized \n",
    "exit\n",
    "''')\n",
    "com_file.close()\n",
    "!vmd -dispdev text -e solvate.tcl"
   ]
  },
  {
   "cell_type": "markdown",
   "metadata": {},
   "source": [
    "# (Optional, you can skip this) Make restrain on alpha carbon of protein."
   ]
  },
  {
   "cell_type": "code",
   "execution_count": 23,
   "metadata": {},
   "outputs": [
    {
     "name": "stdout",
     "output_type": "stream",
     "text": [
      "/home/q/anaconda3/envs/NAMD-MD/lib/vmd_LINUXAMD64: /lib/x86_64-linux-gnu/libGL.so.1: no version information available (required by /home/q/anaconda3/envs/NAMD-MD/lib/vmd_LINUXAMD64)\n",
      "Info) VMD for LINUXAMD64, version 1.9.3 (November 30, 2016)\n",
      "Info) http://www.ks.uiuc.edu/Research/vmd/                         \n",
      "Info) Email questions and bug reports to vmd@ks.uiuc.edu           \n",
      "Info) Please include this reference in published work using VMD:   \n",
      "Info)    Humphrey, W., Dalke, A. and Schulten, K., `VMD - Visual   \n",
      "Info)    Molecular Dynamics', J. Molec. Graphics 1996, 14.1, 33-38.\n",
      "Info) -------------------------------------------------------------\n",
      "Info) Multithreading available, 16 CPUs detected.\n",
      "Info)   CPU features: SSE2 AVX AVX2 FMA \n",
      "Info) Free system memory: 13GB (86%)\n",
      "Info) No CUDA accelerator devices available.\n",
      "Warning) Unable to open dynamic library '/home/q/anaconda3/envs/NAMD-MD/lib/plugins/LINUXAMD64/molfile/hoomdplugin.so'.\n",
      "Warning) libexpat.so.0: failed to map segment from shared object\n",
      "Warning) Unable to dlopen '/home/q/anaconda3/envs/NAMD-MD/lib/plugins/LINUXAMD64/molfile/hoomdplugin.so':\n",
      "  Unable to dlopen plugin file /home/q/anaconda3/envs/NAMD-MD/lib/plugins/LINUXAMD64/molfile/hoomdplugin.so\n",
      "Info) Dynamically loaded 1 plugins in directory:\n",
      "Info) /home/q/anaconda3/envs/NAMD-MD/lib/plugins/LINUXAMD64/molfile\n",
      "ERROR) No molecules loaded.\n",
      "Info) Using plugin pdb for structure file ionized.pdb\n",
      "Info) Using plugin pdb for coordinates from file ionized.pdb\n",
      "Info) Determining bond structure from distance search ...\n",
      "Info) Finished with coordinate file ionized.pdb.\n",
      "Info) Analyzing structure ...\n",
      "Info)    Atoms: 62078\n",
      "Info)    Bonds: 42940\n",
      "Info)    Angles: 0  Dihedrals: 0  Impropers: 0  Cross-terms: 0\n",
      "Info)    Bondtypes: 0  Angletypes: 0  Dihedraltypes: 0  Impropertypes: 0\n",
      "Info)    Residues: 19507\n",
      "Info)    Waters: 19093\n",
      "Info)    Segments: 11\n",
      "Info)    Fragments: 19206   Protein: 2   Nucleic: 0\n",
      "0\n",
      "atomselect0\n",
      "atomselect1\n",
      "Info) Opened coordinate file restrained.pdb for writing.\n",
      "Info) Finished with coordinate file restrained.pdb.\n",
      "Info) VMD for LINUXAMD64, version 1.9.3 (November 30, 2016)\n",
      "Info) Exiting normally.\n",
      "vmd > "
     ]
    }
   ],
   "source": [
    "com_file = open('restrain.tcl','w')\n",
    "com_file.write('''\n",
    "mol delete all\n",
    "mol load pdb ionized.pdb\n",
    "set all [atomselect top \"all\"]\n",
    "set sel [atomselect top \"protein and name CA\"]\n",
    "$all set beta 0\n",
    "$sel set beta 1\n",
    "$all writepdb restrained.pdb\n",
    "exit\n",
    "''')\n",
    "com_file.close()\n",
    "!vmd -dispdev text -e restrain.tcl"
   ]
  },
  {
   "cell_type": "markdown",
   "metadata": {},
   "source": [
    "# Measure the water box dimensions"
   ]
  },
  {
   "cell_type": "code",
   "execution_count": null,
   "metadata": {},
   "outputs": [],
   "source": [
    "com_file = open('measure.tcl','w')\n",
    "com_file.write('''\n",
    "mol delete all\n",
    "mol load pdb ionized.pdb\n",
    "set ubq [atomselect top all]\n",
    "measure minmax $ubq   \n",
    "measure center $ubq \n",
    "''')\n",
    "com_file.close()\n",
    "!vmd -dispdev text -e measure.tcl"
   ]
  },
  {
   "cell_type": "markdown",
   "metadata": {},
   "source": [
    "# Modify NAMD configuration files"
   ]
  },
  {
   "cell_type": "markdown",
   "metadata": {},
   "source": [
    "# Three parts in nvt.namd need modification, same for npt.namd"
   ]
  },
  {
   "cell_type": "code",
   "execution_count": null,
   "metadata": {},
   "outputs": [],
   "source": [
    "# Periodic Boundary Conditions\n",
    "cellBasisVector1 ? 0 0\n",
    "cellBasisVector2 0 ? 0\n",
    "cellBasisVector3 0 0 ?\n",
    "cellOrigin ? ? ?\n",
    "wrapAll on\n",
    "# PME (for full-system periodic electrostatics)\n",
    "PME yes\n",
    "PMEGridSizeX ? ;# product of 2,3,5, slightly bigger than box vector\n",
    "PMEGridSizeY ? ;# product of 2,3,5\n",
    "PMEGridSizeZ ? ;# product of 2,3,5"
   ]
  },
  {
   "cell_type": "code",
   "execution_count": null,
   "metadata": {},
   "outputs": [],
   "source": [
    "paraTypeCharmm on\n",
    "\n",
    "parameters                        top_all36_prot.prm\n",
    "parameters                        ???????????\n",
    "parameters                        toppar_water_ions.mod.str"
   ]
  },
  {
   "cell_type": "code",
   "execution_count": null,
   "metadata": {},
   "outputs": [],
   "source": [
    "run ???????? ;# 5000ps"
   ]
  },
  {
   "cell_type": "markdown",
   "metadata": {},
   "source": [
    "# Run the simulation (This assume you have installed namd)"
   ]
  },
  {
   "cell_type": "code",
   "execution_count": null,
   "metadata": {
    "cellView": "form",
    "id": "bRB2815xNyXi"
   },
   "outputs": [],
   "source": [
    "\n",
    "!namd2 +p2 nvt.namd > nvt.log\n",
    "#!namd2 +p2 npt.namd > npt.log\n"
   ]
  }
 ],
 "metadata": {
  "accelerator": "GPU",
  "colab": {
   "collapsed_sections": [],
   "name": "Copy of NAMD_MD0.ipynb",
   "provenance": []
  },
  "kernelspec": {
   "display_name": "Python 3",
   "language": "python",
   "name": "python3"
  },
  "language_info": {
   "codemirror_mode": {
    "name": "ipython",
    "version": 3
   },
   "file_extension": ".py",
   "mimetype": "text/x-python",
   "name": "python",
   "nbconvert_exporter": "python",
   "pygments_lexer": "ipython3",
   "version": "3.8.10"
  },
  "widgets": {
   "application/vnd.jupyter.widget-state+json": {
    "10193f088e9240a796579932a0279b03": {
     "model_module": "@jupyter-widgets/controls",
     "model_module_version": "1.5.0",
     "model_name": "DescriptionStyleModel",
     "state": {
      "_model_module": "@jupyter-widgets/controls",
      "_model_module_version": "1.5.0",
      "_model_name": "DescriptionStyleModel",
      "_view_count": null,
      "_view_module": "@jupyter-widgets/base",
      "_view_module_version": "1.2.0",
      "_view_name": "StyleView",
      "description_width": ""
     }
    },
    "3ab0d0129ca64d76a2c93c7b1e59b292": {
     "model_module": "@jupyter-widgets/base",
     "model_module_version": "1.2.0",
     "model_name": "LayoutModel",
     "state": {
      "_model_module": "@jupyter-widgets/base",
      "_model_module_version": "1.2.0",
      "_model_name": "LayoutModel",
      "_view_count": null,
      "_view_module": "@jupyter-widgets/base",
      "_view_module_version": "1.2.0",
      "_view_name": "LayoutView",
      "align_content": null,
      "align_items": null,
      "align_self": null,
      "border": null,
      "bottom": null,
      "display": null,
      "flex": null,
      "flex_flow": null,
      "grid_area": null,
      "grid_auto_columns": null,
      "grid_auto_flow": null,
      "grid_auto_rows": null,
      "grid_column": null,
      "grid_gap": null,
      "grid_row": null,
      "grid_template_areas": null,
      "grid_template_columns": null,
      "grid_template_rows": null,
      "height": null,
      "justify_content": null,
      "justify_items": null,
      "left": null,
      "margin": null,
      "max_height": null,
      "max_width": null,
      "min_height": null,
      "min_width": null,
      "object_fit": null,
      "object_position": null,
      "order": null,
      "overflow": null,
      "overflow_x": null,
      "overflow_y": null,
      "padding": null,
      "right": null,
      "top": null,
      "visibility": null,
      "width": null
     }
    },
    "3c137f0764824327acef0cb2c854bab5": {
     "model_module": "@jupyter-widgets/controls",
     "model_module_version": "1.5.0",
     "model_name": "DescriptionStyleModel",
     "state": {
      "_model_module": "@jupyter-widgets/controls",
      "_model_module_version": "1.5.0",
      "_model_name": "DescriptionStyleModel",
      "_view_count": null,
      "_view_module": "@jupyter-widgets/base",
      "_view_module_version": "1.2.0",
      "_view_name": "StyleView",
      "description_width": ""
     }
    },
    "4b00d84c07a844ddad7792b77caced95": {
     "model_module": "@jupyter-widgets/controls",
     "model_module_version": "1.5.0",
     "model_name": "HTMLModel",
     "state": {
      "_dom_classes": [],
      "_model_module": "@jupyter-widgets/controls",
      "_model_module_version": "1.5.0",
      "_model_name": "HTMLModel",
      "_view_count": null,
      "_view_module": "@jupyter-widgets/controls",
      "_view_module_version": "1.5.0",
      "_view_name": "HTMLView",
      "description": "",
      "description_tooltip": null,
      "layout": "IPY_MODEL_3ab0d0129ca64d76a2c93c7b1e59b292",
      "placeholder": "​",
      "style": "IPY_MODEL_10193f088e9240a796579932a0279b03",
      "value": "100%"
     }
    },
    "5614ed21ad704c71b682ebf7ed093116": {
     "model_module": "@jupyter-widgets/base",
     "model_module_version": "1.2.0",
     "model_name": "LayoutModel",
     "state": {
      "_model_module": "@jupyter-widgets/base",
      "_model_module_version": "1.2.0",
      "_model_name": "LayoutModel",
      "_view_count": null,
      "_view_module": "@jupyter-widgets/base",
      "_view_module_version": "1.2.0",
      "_view_name": "LayoutView",
      "align_content": null,
      "align_items": null,
      "align_self": null,
      "border": null,
      "bottom": null,
      "display": null,
      "flex": null,
      "flex_flow": null,
      "grid_area": null,
      "grid_auto_columns": null,
      "grid_auto_flow": null,
      "grid_auto_rows": null,
      "grid_column": null,
      "grid_gap": null,
      "grid_row": null,
      "grid_template_areas": null,
      "grid_template_columns": null,
      "grid_template_rows": null,
      "height": null,
      "justify_content": null,
      "justify_items": null,
      "left": null,
      "margin": null,
      "max_height": null,
      "max_width": null,
      "min_height": null,
      "min_width": null,
      "object_fit": null,
      "object_position": null,
      "order": null,
      "overflow": null,
      "overflow_x": null,
      "overflow_y": null,
      "padding": null,
      "right": null,
      "top": null,
      "visibility": null,
      "width": null
     }
    },
    "7c74f1abdeaa46baa8ef759c34972cb2": {
     "model_module": "@jupyter-widgets/base",
     "model_module_version": "1.2.0",
     "model_name": "LayoutModel",
     "state": {
      "_model_module": "@jupyter-widgets/base",
      "_model_module_version": "1.2.0",
      "_model_name": "LayoutModel",
      "_view_count": null,
      "_view_module": "@jupyter-widgets/base",
      "_view_module_version": "1.2.0",
      "_view_name": "LayoutView",
      "align_content": null,
      "align_items": null,
      "align_self": null,
      "border": null,
      "bottom": null,
      "display": null,
      "flex": null,
      "flex_flow": null,
      "grid_area": null,
      "grid_auto_columns": null,
      "grid_auto_flow": null,
      "grid_auto_rows": null,
      "grid_column": null,
      "grid_gap": null,
      "grid_row": null,
      "grid_template_areas": null,
      "grid_template_columns": null,
      "grid_template_rows": null,
      "height": null,
      "justify_content": null,
      "justify_items": null,
      "left": null,
      "margin": null,
      "max_height": null,
      "max_width": null,
      "min_height": null,
      "min_width": null,
      "object_fit": null,
      "object_position": null,
      "order": null,
      "overflow": null,
      "overflow_x": null,
      "overflow_y": null,
      "padding": null,
      "right": null,
      "top": null,
      "visibility": null,
      "width": null
     }
    },
    "b09278c4bcb44d11b6ba2a74fe7104fc": {
     "model_module": "@jupyter-widgets/controls",
     "model_module_version": "1.5.0",
     "model_name": "HTMLModel",
     "state": {
      "_dom_classes": [],
      "_model_module": "@jupyter-widgets/controls",
      "_model_module_version": "1.5.0",
      "_model_name": "HTMLModel",
      "_view_count": null,
      "_view_module": "@jupyter-widgets/controls",
      "_view_module_version": "1.5.0",
      "_view_name": "HTMLView",
      "description": "",
      "description_tooltip": null,
      "layout": "IPY_MODEL_e2db23fe40d84b81abf847de6adb36bf",
      "placeholder": "​",
      "style": "IPY_MODEL_3c137f0764824327acef0cb2c854bab5",
      "value": " 100/100 [elapsed: 04:48 remaining: 00:00]"
     }
    },
    "de2a82e34e5a4887aca6f200785b2a39": {
     "model_module": "@jupyter-widgets/controls",
     "model_module_version": "1.5.0",
     "model_name": "FloatProgressModel",
     "state": {
      "_dom_classes": [],
      "_model_module": "@jupyter-widgets/controls",
      "_model_module_version": "1.5.0",
      "_model_name": "FloatProgressModel",
      "_view_count": null,
      "_view_module": "@jupyter-widgets/controls",
      "_view_module_version": "1.5.0",
      "_view_name": "ProgressView",
      "bar_style": "success",
      "description": "",
      "description_tooltip": null,
      "layout": "IPY_MODEL_7c74f1abdeaa46baa8ef759c34972cb2",
      "max": 100,
      "min": 0,
      "orientation": "horizontal",
      "style": "IPY_MODEL_fd2af40e2ca2465ea4252203348584a3",
      "value": 100
     }
    },
    "e2db23fe40d84b81abf847de6adb36bf": {
     "model_module": "@jupyter-widgets/base",
     "model_module_version": "1.2.0",
     "model_name": "LayoutModel",
     "state": {
      "_model_module": "@jupyter-widgets/base",
      "_model_module_version": "1.2.0",
      "_model_name": "LayoutModel",
      "_view_count": null,
      "_view_module": "@jupyter-widgets/base",
      "_view_module_version": "1.2.0",
      "_view_name": "LayoutView",
      "align_content": null,
      "align_items": null,
      "align_self": null,
      "border": null,
      "bottom": null,
      "display": null,
      "flex": null,
      "flex_flow": null,
      "grid_area": null,
      "grid_auto_columns": null,
      "grid_auto_flow": null,
      "grid_auto_rows": null,
      "grid_column": null,
      "grid_gap": null,
      "grid_row": null,
      "grid_template_areas": null,
      "grid_template_columns": null,
      "grid_template_rows": null,
      "height": null,
      "justify_content": null,
      "justify_items": null,
      "left": null,
      "margin": null,
      "max_height": null,
      "max_width": null,
      "min_height": null,
      "min_width": null,
      "object_fit": null,
      "object_position": null,
      "order": null,
      "overflow": null,
      "overflow_x": null,
      "overflow_y": null,
      "padding": null,
      "right": null,
      "top": null,
      "visibility": null,
      "width": null
     }
    },
    "fd2af40e2ca2465ea4252203348584a3": {
     "model_module": "@jupyter-widgets/controls",
     "model_module_version": "1.5.0",
     "model_name": "ProgressStyleModel",
     "state": {
      "_model_module": "@jupyter-widgets/controls",
      "_model_module_version": "1.5.0",
      "_model_name": "ProgressStyleModel",
      "_view_count": null,
      "_view_module": "@jupyter-widgets/base",
      "_view_module_version": "1.2.0",
      "_view_name": "StyleView",
      "bar_color": null,
      "description_width": ""
     }
    },
    "ff68e344e05449dbb4784f425e0c6594": {
     "model_module": "@jupyter-widgets/controls",
     "model_module_version": "1.5.0",
     "model_name": "HBoxModel",
     "state": {
      "_dom_classes": [],
      "_model_module": "@jupyter-widgets/controls",
      "_model_module_version": "1.5.0",
      "_model_name": "HBoxModel",
      "_view_count": null,
      "_view_module": "@jupyter-widgets/controls",
      "_view_module_version": "1.5.0",
      "_view_name": "HBoxView",
      "box_style": "",
      "children": [
       "IPY_MODEL_4b00d84c07a844ddad7792b77caced95",
       "IPY_MODEL_de2a82e34e5a4887aca6f200785b2a39",
       "IPY_MODEL_b09278c4bcb44d11b6ba2a74fe7104fc"
      ],
      "layout": "IPY_MODEL_5614ed21ad704c71b682ebf7ed093116"
     }
    }
   }
  }
 },
 "nbformat": 4,
 "nbformat_minor": 4
}
