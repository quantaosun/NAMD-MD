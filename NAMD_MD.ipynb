{
  "cells": [
    {
      "cell_type": "markdown",
      "metadata": {
        "id": "VVaXwqhBl8ZC"
      },
      "source": [
        "\n",
        "# NAMD Protein-ligand complex MD Setup tutorial using Jupyter Notebook\n",
        "\n",
        "This notebook is wrritten by quantaosun@gmail.com in Shanghai, China, 2021. \n",
        "This notebook took PDB ID 7L10, the protease of SARS-CoV-2 with an inhibitor, as an example, relative work was firstly published on ACS Cent. Sci. 2021, 7, 3, 467–475, by William L. Jorgensen, Yale University."
      ]
    },
    {
      "cell_type": "markdown",
      "metadata": {
        "id": "aTCtNy4mnN_A"
      },
      "source": [
        "**The overall procedure is as below**\n",
        "0.   PDB structure check and fix with third-party tools or web server.\n",
        "1.   Installation of Anaconda,pymol, vmd, and openmm, pdbfixer\n",
        "2.   PDB ID provided by user\n",
        "3.   Separation of ligand and protein\n",
        "4.   Topology generation for ligand using LigParGen web server\n",
        "5.   Combine new ligand pdb and original protein, mannually renumber ligand atom\n",
        "6.   Generation of ionized.pdb and ionized.psf by VMD, with Charmm force field.\n",
        "7.   Generation of conf file for NAMD simulation. \n",
        "8.   NAMD simulation \n"
      ]
    },
    {
      "cell_type": "markdown",
      "metadata": {
        "id": "ulIaiBGT_pVw"
      },
      "source": [
        "# Download Github repository and create conda env"
      ]
    },
    {
      "cell_type": "code",
      "execution_count": null,
      "metadata": {
        "id": "8QpuVeMq_pVx"
      },
      "outputs": [],
      "source": [
        "git clone https://github.com/quantaosun/NAMD-MD\n",
        "cd NAMD-MD\n",
        "conda create -n NAMD-MD python=3.7\n",
        "conda activate NAMD-MD\n",
        "(NAMD-MD) conda install jupyter\n",
        "(NAMD-MD) jupyter notebook\n",
        "# If you have problem opening jupyter notebook\n",
        "# conda remove jupyter\n",
        "# sudo apt isntall jupyter\n",
        "# jupyter notebook"
      ]
    },
    {
      "cell_type": "markdown",
      "metadata": {
        "id": "QQVrwypJ_pVz"
      },
      "source": [
        "# Starting Jupyter notebook and install dependencies, this may take a while"
      ]
    },
    {
      "cell_type": "code",
      "execution_count": null,
      "metadata": {
        "id": "pH0VqFaY_pVz"
      },
      "outputs": [],
      "source": [
        "! yes | conda install -c conda-forge vmd &> /dev/null\n",
        "#@title Install VMD\n",
        "!yes | conda install -c conda-forge pymol-open-source &> /dev/null\n",
        "#install openmm\n",
        "!yes | conda install -c conda-forge openmm &> /dev/null\n",
        "#install pdbfixer\n",
        "!yes | conda install -c conda-forge pdbfixer &> /dev/null\n",
        "#install open babel\n",
        "!yes|conda install -c openbabel openbabel\n",
        "#install visualization\n",
        "! pip install py3Dmol &> /dev/null\n",
        "#install rdkit\n",
        "!yes | conda install -c rdkit rdkit &> /dev/null"
      ]
    },
    {
      "cell_type": "markdown",
      "metadata": {
        "id": "h35WSAth_pV0"
      },
      "source": [
        "# Use \"conda env list\" find your system path"
      ]
    },
    {
      "cell_type": "code",
      "execution_count": null,
      "metadata": {
        "id": "eJXNNvm5_pV0"
      },
      "outputs": [],
      "source": [
        "import sys\n",
        "sys.path.append('/root/miniconda3/envs/NAMD-MD/lib/python3.7/site-packages')\n",
        "#import rdkit for visualization purpose\n",
        "from rdkit import Chem\n",
        "from rdkit.Chem import AllChem\n",
        "from rdkit.Chem import Draw\n",
        "from rdkit.Chem.Draw import IPythonConsole\n",
        "from rdkit.Chem import DataStructs\n",
        "from rdkit.Chem import RDConfig\n",
        "from rdkit.Chem import rdBase\n",
        "from rdkit.Chem import MolFromPDBFile"
      ]
    },
    {
      "cell_type": "markdown",
      "metadata": {
        "id": "nPagTZGX_pV1"
      },
      "source": [
        "# Visually check if your protein has multiple chains or just a single one."
      ]
    },
    {
      "cell_type": "code",
      "execution_count": null,
      "metadata": {
        "colab": {
          "base_uri": "https://localhost:8080/",
          "height": 514
        },
        "id": "pp1LY8czS5Ru",
        "outputId": "926171e2-84a7-48d6-f8c4-e288f95c37f6"
      },
      "outputs": [
        {
          "output_type": "display_data",
          "data": {
            "application/3dmoljs_load.v0": "<div id=\"3dmolviewer_16546034584850056\"  style=\"position: relative; width: 640px; height: 480px\">\n        <p id=\"3dmolwarning_16546034584850056\" style=\"background-color:#ffcccc;color:black\">You appear to be running in JupyterLab (or JavaScript failed to load for some other reason).  You need to install the 3dmol extension: <br>\n        <tt>jupyter labextension install jupyterlab_3dmol</tt></p>\n        </div>\n<script>\n\nvar loadScriptAsync = function(uri){\n  return new Promise((resolve, reject) => {\n    var tag = document.createElement('script');\n    tag.src = uri;\n    tag.async = true;\n    tag.onload = () => {\n      resolve();\n    };\n  var firstScriptTag = document.getElementsByTagName('script')[0];\n  firstScriptTag.parentNode.insertBefore(tag, firstScriptTag);\n});\n};\n\nif(typeof $3Dmolpromise === 'undefined') {\n$3Dmolpromise = null;\n  $3Dmolpromise = loadScriptAsync('https://3dmol.org/build/3Dmol.js');\n}\n\nvar viewer_16546034584850056 = null;\nvar warn = document.getElementById(\"3dmolwarning_16546034584850056\");\nif(warn) {\n    warn.parentNode.removeChild(warn);\n}\n$3Dmolpromise.then(function() {\nviewer_16546034584850056 = $3Dmol.createViewer($(\"#3dmolviewer_16546034584850056\"),{backgroundColor:\"white\"});\n$3Dmol.download(\"pdb:7pqs\", viewer_16546034584850056, {}, function() {\nviewer_16546034584850056.zoomTo();\n\tviewer_16546034584850056.setStyle({\"cartoon\": {\"color\": \"spectrum\"}});\nviewer_16546034584850056.render();\n})\n});\n</script>",
            "text/html": [
              "<div id=\"3dmolviewer_16546034584850056\"  style=\"position: relative; width: 640px; height: 480px\">\n",
              "        <p id=\"3dmolwarning_16546034584850056\" style=\"background-color:#ffcccc;color:black\">You appear to be running in JupyterLab (or JavaScript failed to load for some other reason).  You need to install the 3dmol extension: <br>\n",
              "        <tt>jupyter labextension install jupyterlab_3dmol</tt></p>\n",
              "        </div>\n",
              "<script>\n",
              "\n",
              "var loadScriptAsync = function(uri){\n",
              "  return new Promise((resolve, reject) => {\n",
              "    var tag = document.createElement('script');\n",
              "    tag.src = uri;\n",
              "    tag.async = true;\n",
              "    tag.onload = () => {\n",
              "      resolve();\n",
              "    };\n",
              "  var firstScriptTag = document.getElementsByTagName('script')[0];\n",
              "  firstScriptTag.parentNode.insertBefore(tag, firstScriptTag);\n",
              "});\n",
              "};\n",
              "\n",
              "if(typeof $3Dmolpromise === 'undefined') {\n",
              "$3Dmolpromise = null;\n",
              "  $3Dmolpromise = loadScriptAsync('https://3dmol.org/build/3Dmol.js');\n",
              "}\n",
              "\n",
              "var viewer_16546034584850056 = null;\n",
              "var warn = document.getElementById(\"3dmolwarning_16546034584850056\");\n",
              "if(warn) {\n",
              "    warn.parentNode.removeChild(warn);\n",
              "}\n",
              "$3Dmolpromise.then(function() {\n",
              "viewer_16546034584850056 = $3Dmol.createViewer($(\"#3dmolviewer_16546034584850056\"),{backgroundColor:\"white\"});\n",
              "$3Dmol.download(\"pdb:7pqs\", viewer_16546034584850056, {}, function() {\n",
              "viewer_16546034584850056.zoomTo();\n",
              "\tviewer_16546034584850056.setStyle({\"cartoon\": {\"color\": \"spectrum\"}});\n",
              "viewer_16546034584850056.render();\n",
              "})\n",
              "});\n",
              "</script>"
            ]
          },
          "metadata": {}
        },
        {
          "output_type": "execute_result",
          "data": {
            "text/plain": [
              "<py3Dmol.view at 0x7f32dacd2a10>"
            ]
          },
          "metadata": {},
          "execution_count": 7
        }
      ],
      "source": [
        "import py3Dmol\n",
        "view = py3Dmol.view(query='pdb:7pqs')\n",
        "view.setStyle({'cartoon':{'color':'spectrum'}})\n",
        "view"
      ]
    },
    {
      "cell_type": "markdown",
      "metadata": {
        "id": "k4MHHzof6sYM"
      },
      "source": [
        "# Download PDB "
      ]
    },
    {
      "cell_type": "code",
      "execution_count": null,
      "metadata": {
        "cellView": "form",
        "id": "Vx0M_FXDp74w",
        "outputId": "f7ff487f-908c-4684-b998-f0535ba6a138",
        "colab": {
          "base_uri": "https://localhost:8080/"
        }
      },
      "outputs": [
        {
          "output_type": "stream",
          "name": "stdout",
          "text": [
            "--2022-06-07 12:26:45--  https://files.rcsb.org/download/7PQS.pdb\n",
            "Resolving files.rcsb.org (files.rcsb.org)... 128.6.158.66\n",
            "Connecting to files.rcsb.org (files.rcsb.org)|128.6.158.66|:443... connected.\n",
            "HTTP request sent, awaiting response... 200 OK\n",
            "Length: unspecified [application/octet-stream]\n",
            "Saving to: ‘7PQS.pdb’\n",
            "\n",
            "7PQS.pdb                [   <=>              ] 975.40K  2.01MB/s    in 0.5s    \n",
            "\n",
            "2022-06-07 12:26:46 (2.01 MB/s) - ‘7PQS.pdb’ saved [998811]\n",
            "\n"
          ]
        }
      ],
      "source": [
        "PDB_ID = \"7PQS\" #@param {type:\"string\"}\n",
        "pdb = PDB_ID + \".pdb\"\n",
        "! wget https://files.rcsb.org/download/$pdb"
      ]
    },
    {
      "cell_type": "code",
      "source": [
        "%cd NAMD-MD"
      ],
      "metadata": {
        "id": "798K6VkeHMrP",
        "outputId": "5b6cd0d6-2764-4a14-cd72-6593e33cf85a",
        "colab": {
          "base_uri": "https://localhost:8080/"
        }
      },
      "execution_count": null,
      "outputs": [
        {
          "output_type": "stream",
          "name": "stdout",
          "text": [
            "/content/NAMD-MD\n"
          ]
        }
      ]
    },
    {
      "cell_type": "code",
      "source": [
        "com_file = open('delete.pml','w')\n",
        "com_file.write('''\n",
        "load 7PQS.pdb\n",
        "remove chain B\n",
        "save chainA.pdb, all \n",
        "''')\n",
        "com_file.close()\n",
        "#!pymol -c combine_protien_ligand.pml"
      ],
      "metadata": {
        "id": "EYePpc-MGwxX"
      },
      "execution_count": null,
      "outputs": []
    },
    {
      "cell_type": "markdown",
      "metadata": {
        "id": "oZ5MC8jq_pV7"
      },
      "source": [
        "# (Optional) Skip pdbfixer if your protein has no missing loops"
      ]
    },
    {
      "cell_type": "code",
      "execution_count": null,
      "metadata": {
        "id": "HBROIBsA_pV8",
        "outputId": "4364d550-ddae-4501-f942-67505c4675a9",
        "colab": {
          "base_uri": "https://localhost:8080/"
        }
      },
      "outputs": [
        {
          "output_type": "stream",
          "name": "stdout",
          "text": [
            "/bin/bash: pdbfixer: command not found\n"
          ]
        }
      ],
      "source": [
        "#Only use this if your protein has a broken backbone\n",
        "!pdbfixer chainA.pdb --keep-heterogens=none --add-atoms=heavy --ph=7.0 --replace-nonstandard --output=receptor.pdbfixer.pdb"
      ]
    },
    {
      "cell_type": "markdown",
      "metadata": {
        "id": "VeyVBccu_pV9"
      },
      "source": [
        "# What is the name of your ligand? Check it out on RCSB PDB website !"
      ]
    },
    {
      "cell_type": "code",
      "execution_count": null,
      "metadata": {
        "scrolled": true,
        "id": "e7Ed7LTq_pV9",
        "outputId": "5dcef06b-4752-4575-b21f-a3c2b9f7abd8",
        "colab": {
          "base_uri": "https://localhost:8080/",
          "height": 514
        }
      },
      "outputs": [
        {
          "output_type": "display_data",
          "data": {
            "application/3dmoljs_load.v0": "<div id=\"3dmolviewer_16546037212722332\"  style=\"position: relative; width: 640px; height: 480px\">\n        <p id=\"3dmolwarning_16546037212722332\" style=\"background-color:#ffcccc;color:black\">You appear to be running in JupyterLab (or JavaScript failed to load for some other reason).  You need to install the 3dmol extension: <br>\n        <tt>jupyter labextension install jupyterlab_3dmol</tt></p>\n        </div>\n<script>\n\nvar loadScriptAsync = function(uri){\n  return new Promise((resolve, reject) => {\n    var tag = document.createElement('script');\n    tag.src = uri;\n    tag.async = true;\n    tag.onload = () => {\n      resolve();\n    };\n  var firstScriptTag = document.getElementsByTagName('script')[0];\n  firstScriptTag.parentNode.insertBefore(tag, firstScriptTag);\n});\n};\n\nif(typeof $3Dmolpromise === 'undefined') {\n$3Dmolpromise = null;\n  $3Dmolpromise = loadScriptAsync('https://3dmol.org/build/3Dmol.js');\n}\n\nvar viewer_16546037212722332 = null;\nvar warn = document.getElementById(\"3dmolwarning_16546037212722332\");\nif(warn) {\n    warn.parentNode.removeChild(warn);\n}\n$3Dmolpromise.then(function() {\nviewer_16546037212722332 = $3Dmol.createViewer($(\"#3dmolviewer_16546037212722332\"),{backgroundColor:\"white\"});\n$3Dmol.download(\"pdb:7PQS\", viewer_16546037212722332, {}, function() {\nviewer_16546037212722332.setStyle({\"cartoon\": {\"colorscheme\": \"ssPyMol\"}, \"stick\": {\"radius\": 0.05}});\nviewer_16546037212722332.zoomTo();\n\tviewer_16546037212722332.setStyle({\"resn\": \"80H\"},{\"stick\": {}});\n\tviewer_16546037212722332.zoomTo({\"resn\": \"80H\"});\nviewer_16546037212722332.render();\n})\n});\n</script>",
            "text/html": [
              "<div id=\"3dmolviewer_16546037212722332\"  style=\"position: relative; width: 640px; height: 480px\">\n",
              "        <p id=\"3dmolwarning_16546037212722332\" style=\"background-color:#ffcccc;color:black\">You appear to be running in JupyterLab (or JavaScript failed to load for some other reason).  You need to install the 3dmol extension: <br>\n",
              "        <tt>jupyter labextension install jupyterlab_3dmol</tt></p>\n",
              "        </div>\n",
              "<script>\n",
              "\n",
              "var loadScriptAsync = function(uri){\n",
              "  return new Promise((resolve, reject) => {\n",
              "    var tag = document.createElement('script');\n",
              "    tag.src = uri;\n",
              "    tag.async = true;\n",
              "    tag.onload = () => {\n",
              "      resolve();\n",
              "    };\n",
              "  var firstScriptTag = document.getElementsByTagName('script')[0];\n",
              "  firstScriptTag.parentNode.insertBefore(tag, firstScriptTag);\n",
              "});\n",
              "};\n",
              "\n",
              "if(typeof $3Dmolpromise === 'undefined') {\n",
              "$3Dmolpromise = null;\n",
              "  $3Dmolpromise = loadScriptAsync('https://3dmol.org/build/3Dmol.js');\n",
              "}\n",
              "\n",
              "var viewer_16546037212722332 = null;\n",
              "var warn = document.getElementById(\"3dmolwarning_16546037212722332\");\n",
              "if(warn) {\n",
              "    warn.parentNode.removeChild(warn);\n",
              "}\n",
              "$3Dmolpromise.then(function() {\n",
              "viewer_16546037212722332 = $3Dmol.createViewer($(\"#3dmolviewer_16546037212722332\"),{backgroundColor:\"white\"});\n",
              "$3Dmol.download(\"pdb:7PQS\", viewer_16546037212722332, {}, function() {\n",
              "viewer_16546037212722332.setStyle({\"cartoon\": {\"colorscheme\": \"ssPyMol\"}, \"stick\": {\"radius\": 0.05}});\n",
              "viewer_16546037212722332.zoomTo();\n",
              "\tviewer_16546037212722332.setStyle({\"resn\": \"80H\"},{\"stick\": {}});\n",
              "\tviewer_16546037212722332.zoomTo({\"resn\": \"80H\"});\n",
              "viewer_16546037212722332.render();\n",
              "})\n",
              "});\n",
              "</script>"
            ]
          },
          "metadata": {}
        },
        {
          "output_type": "execute_result",
          "data": {
            "text/plain": [
              "<py3Dmol.view at 0x7f32dacc96d0>"
            ]
          },
          "metadata": {},
          "execution_count": 12
        }
      ],
      "source": [
        "v = py3Dmol.view(query='pdb:7PQS',style={'cartoon':{'colorscheme':'ssPyMol'},'stick':{'radius':0.05}})\n",
        "v.setStyle({'resn':'80H'},{'stick':{}})\n",
        "v.zoomTo({'resn':'80H'})"
      ]
    },
    {
      "cell_type": "code",
      "source": [
        "v = py3Dmol.view('chianA.pdb')\n",
        "v"
      ],
      "metadata": {
        "id": "YDIJCPXWHlir",
        "outputId": "4f9bdb7e-ee3a-42b5-9d69-0e6b148f3b78",
        "colab": {
          "resources": {
            "http://localhost:8080/chianA.pdb": {
              "data": "CjwhRE9DVFlQRSBodG1sPgo8aHRtbCBsYW5nPWVuPgogIDxtZXRhIGNoYXJzZXQ9dXRmLTg+CiAgPG1ldGEgbmFtZT12aWV3cG9ydCBjb250ZW50PSJpbml0aWFsLXNjYWxlPTEsIG1pbmltdW0tc2NhbGU9MSwgd2lkdGg9ZGV2aWNlLXdpZHRoIj4KICA8dGl0bGU+RXJyb3IgNDA0IChOb3QgRm91bmQpISExPC90aXRsZT4KICA8c3R5bGU+CiAgICAqe21hcmdpbjowO3BhZGRpbmc6MH1odG1sLGNvZGV7Zm9udDoxNXB4LzIycHggYXJpYWwsc2Fucy1zZXJpZn1odG1se2JhY2tncm91bmQ6I2ZmZjtjb2xvcjojMjIyO3BhZGRpbmc6MTVweH1ib2R5e21hcmdpbjo3JSBhdXRvIDA7bWF4LXdpZHRoOjM5MHB4O21pbi1oZWlnaHQ6MTgwcHg7cGFkZGluZzozMHB4IDAgMTVweH0qID4gYm9keXtiYWNrZ3JvdW5kOnVybCgvL3d3dy5nb29nbGUuY29tL2ltYWdlcy9lcnJvcnMvcm9ib3QucG5nKSAxMDAlIDVweCBuby1yZXBlYXQ7cGFkZGluZy1yaWdodDoyMDVweH1we21hcmdpbjoxMXB4IDAgMjJweDtvdmVyZmxvdzpoaWRkZW59aW5ze2NvbG9yOiM3Nzc7dGV4dC1kZWNvcmF0aW9uOm5vbmV9YSBpbWd7Ym9yZGVyOjB9QG1lZGlhIHNjcmVlbiBhbmQgKG1heC13aWR0aDo3NzJweCl7Ym9keXtiYWNrZ3JvdW5kOm5vbmU7bWFyZ2luLXRvcDowO21heC13aWR0aDpub25lO3BhZGRpbmctcmlnaHQ6MH19I2xvZ297YmFja2dyb3VuZDp1cmwoLy93d3cuZ29vZ2xlLmNvbS9pbWFnZXMvbG9nb3MvZXJyb3JwYWdlL2Vycm9yX2xvZ28tMTUweDU0LnBuZykgbm8tcmVwZWF0O21hcmdpbi1sZWZ0Oi01cHh9QG1lZGlhIG9ubHkgc2NyZWVuIGFuZCAobWluLXJlc29sdXRpb246MTkyZHBpKXsjbG9nb3tiYWNrZ3JvdW5kOnVybCgvL3d3dy5nb29nbGUuY29tL2ltYWdlcy9sb2dvcy9lcnJvcnBhZ2UvZXJyb3JfbG9nby0xNTB4NTQtMngucG5nKSBuby1yZXBlYXQgMCUgMCUvMTAwJSAxMDAlOy1tb3otYm9yZGVyLWltYWdlOnVybCgvL3d3dy5nb29nbGUuY29tL2ltYWdlcy9sb2dvcy9lcnJvcnBhZ2UvZXJyb3JfbG9nby0xNTB4NTQtMngucG5nKSAwfX1AbWVkaWEgb25seSBzY3JlZW4gYW5kICgtd2Via2l0LW1pbi1kZXZpY2UtcGl4ZWwtcmF0aW86Mil7I2xvZ297YmFja2dyb3VuZDp1cmwoLy93d3cuZ29vZ2xlLmNvbS9pbWFnZXMvbG9nb3MvZXJyb3JwYWdlL2Vycm9yX2xvZ28tMTUweDU0LTJ4LnBuZykgbm8tcmVwZWF0Oy13ZWJraXQtYmFja2dyb3VuZC1zaXplOjEwMCUgMTAwJX19I2xvZ297ZGlzcGxheTppbmxpbmUtYmxvY2s7aGVpZ2h0OjU0cHg7d2lkdGg6MTUwcHh9CiAgPC9zdHlsZT4KICA8YSBocmVmPS8vd3d3Lmdvb2dsZS5jb20vPjxzcGFuIGlkPWxvZ28gYXJpYS1sYWJlbD1Hb29nbGU+PC9zcGFuPjwvYT4KICA8cD48Yj40MDQuPC9iPiA8aW5zPlRoYXTigJlzIGFuIGVycm9yLjwvaW5zPgogIDxwPiAgPGlucz5UaGF04oCZcyBhbGwgd2Uga25vdy48L2lucz4K",
              "ok": false,
              "headers": [
                [
                  "content-length",
                  "1449"
                ],
                [
                  "content-type",
                  "text/html; charset=utf-8"
                ]
              ],
              "status": 404,
              "status_text": ""
            }
          },
          "base_uri": "https://localhost:8080/",
          "height": 514
        }
      },
      "execution_count": null,
      "outputs": [
        {
          "output_type": "display_data",
          "data": {
            "application/3dmoljs_load.v0": "<div id=\"3dmolviewer_16546049191608312\"  style=\"position: relative; width: 640px; height: 480px\">\n        <p id=\"3dmolwarning_16546049191608312\" style=\"background-color:#ffcccc;color:black\">You appear to be running in JupyterLab (or JavaScript failed to load for some other reason).  You need to install the 3dmol extension: <br>\n        <tt>jupyter labextension install jupyterlab_3dmol</tt></p>\n        </div>\n<script>\n\nvar loadScriptAsync = function(uri){\n  return new Promise((resolve, reject) => {\n    var tag = document.createElement('script');\n    tag.src = uri;\n    tag.async = true;\n    tag.onload = () => {\n      resolve();\n    };\n  var firstScriptTag = document.getElementsByTagName('script')[0];\n  firstScriptTag.parentNode.insertBefore(tag, firstScriptTag);\n});\n};\n\nif(typeof $3Dmolpromise === 'undefined') {\n$3Dmolpromise = null;\n  $3Dmolpromise = loadScriptAsync('https://3dmol.org/build/3Dmol.js');\n}\n\nvar viewer_16546049191608312 = null;\nvar warn = document.getElementById(\"3dmolwarning_16546049191608312\");\nif(warn) {\n    warn.parentNode.removeChild(warn);\n}\n$3Dmolpromise.then(function() {\nviewer_16546049191608312 = $3Dmol.createViewer($(\"#3dmolviewer_16546049191608312\"),{backgroundColor:\"white\"});\n$3Dmol.download(\"chianA.pdb\", viewer_16546049191608312, {}, function() {\nviewer_16546049191608312.zoomTo();\nviewer_16546049191608312.render();\n})\n});\n</script>",
            "text/html": [
              "<div id=\"3dmolviewer_16546049191608312\"  style=\"position: relative; width: 640px; height: 480px\">\n",
              "        <p id=\"3dmolwarning_16546049191608312\" style=\"background-color:#ffcccc;color:black\">You appear to be running in JupyterLab (or JavaScript failed to load for some other reason).  You need to install the 3dmol extension: <br>\n",
              "        <tt>jupyter labextension install jupyterlab_3dmol</tt></p>\n",
              "        </div>\n",
              "<script>\n",
              "\n",
              "var loadScriptAsync = function(uri){\n",
              "  return new Promise((resolve, reject) => {\n",
              "    var tag = document.createElement('script');\n",
              "    tag.src = uri;\n",
              "    tag.async = true;\n",
              "    tag.onload = () => {\n",
              "      resolve();\n",
              "    };\n",
              "  var firstScriptTag = document.getElementsByTagName('script')[0];\n",
              "  firstScriptTag.parentNode.insertBefore(tag, firstScriptTag);\n",
              "});\n",
              "};\n",
              "\n",
              "if(typeof $3Dmolpromise === 'undefined') {\n",
              "$3Dmolpromise = null;\n",
              "  $3Dmolpromise = loadScriptAsync('https://3dmol.org/build/3Dmol.js');\n",
              "}\n",
              "\n",
              "var viewer_16546049191608312 = null;\n",
              "var warn = document.getElementById(\"3dmolwarning_16546049191608312\");\n",
              "if(warn) {\n",
              "    warn.parentNode.removeChild(warn);\n",
              "}\n",
              "$3Dmolpromise.then(function() {\n",
              "viewer_16546049191608312 = $3Dmol.createViewer($(\"#3dmolviewer_16546049191608312\"),{backgroundColor:\"white\"});\n",
              "$3Dmol.download(\"chianA.pdb\", viewer_16546049191608312, {}, function() {\n",
              "viewer_16546049191608312.zoomTo();\n",
              "viewer_16546049191608312.render();\n",
              "})\n",
              "});\n",
              "</script>"
            ]
          },
          "metadata": {}
        },
        {
          "output_type": "execute_result",
          "data": {
            "text/plain": [
              "<py3Dmol.view at 0x7f32d1e4a550>"
            ]
          },
          "metadata": {},
          "execution_count": 31
        }
      ]
    },
    {
      "cell_type": "markdown",
      "metadata": {
        "id": "PtEd8dda_pV9"
      },
      "source": [
        "# Split protein and ligand, input the PDB ID and Ligand ID."
      ]
    },
    {
      "cell_type": "code",
      "execution_count": null,
      "metadata": {
        "id": "bAtKHO9H0wlX"
      },
      "outputs": [],
      "source": [
        "ligand_name = \"80H\" #@param {type:\"string\"}\n",
        "PDB_path = \"/content/NAMD-MD/7PQS.pdb\" #@param {type:\"string\"}\n",
        "!grep ATOM '{PDB_path}' > protein_no_H.pdb\n",
        "!grep HETATM '{PDB_path}' > ligand_1.pdb\n",
        "!grep '{ligand_name}' ligand_1.pdb > ligand_no_H.pdb"
      ]
    },
    {
      "cell_type": "markdown",
      "metadata": {
        "id": "oMQpJpiE_pV-"
      },
      "source": [
        "# Add hydrogen to ligand"
      ]
    },
    {
      "cell_type": "code",
      "execution_count": null,
      "metadata": {
        "id": "BJZsPedD_pV-",
        "outputId": "db1875c7-8dec-4323-ecba-56b4f428030e",
        "colab": {
          "base_uri": "https://localhost:8080/"
        }
      },
      "outputs": [
        {
          "output_type": "stream",
          "name": "stdout",
          "text": [
            "/bin/bash: obabel: command not found\n"
          ]
        }
      ],
      "source": [
        "!obabel -ipdb ligand_no_H.pdb -opdb -O ligand_with_H.pdb -h"
      ]
    },
    {
      "cell_type": "markdown",
      "metadata": {
        "id": "1uVJRwrOPktm"
      },
      "source": [
        "# Uplaod ligand_with_H.pdb to LigParGen to generate PDB,PRM and RTF three files.  http://zarbi.chem.yale.edu/ligpargen/index.html "
      ]
    },
    {
      "cell_type": "code",
      "execution_count": null,
      "metadata": {
        "colab": {
          "base_uri": "https://localhost:8080/"
        },
        "id": "XML_OXOj1Jag",
        "outputId": "263bd8b3-981e-46a0-aa14-7d5376255075",
        "scrolled": true
      },
      "outputs": [
        {
          "output_type": "stream",
          "name": "stdout",
          "text": [
            "/bin/bash: pymol: command not found\n"
          ]
        }
      ],
      "source": [
        "com_file = open('combine_protien_ligand.pml','w')\n",
        "com_file.write('''\n",
        "load protein_no_H.pdb\n",
        "load UNK_A73DB4.pdb\n",
        "select all\n",
        "save complex.pdb, all \n",
        "''')\n",
        "com_file.close()\n",
        "!pymol -c combine_protien_ligand.pml"
      ]
    },
    {
      "cell_type": "markdown",
      "metadata": {
        "id": "5tTwPita_pV_"
      },
      "source": [
        "# Modify VMD script and run psfgen"
      ]
    },
    {
      "cell_type": "code",
      "execution_count": null,
      "metadata": {
        "id": "0gJQHT1Q_pWA",
        "outputId": "e689048e-cf97-41d9-b1ca-f7b075d916e3",
        "colab": {
          "base_uri": "https://localhost:8080/"
        }
      },
      "outputs": [
        {
          "output_type": "stream",
          "name": "stdout",
          "text": [
            "/bin/bash: vmd: command not found\n"
          ]
        }
      ],
      "source": [
        "com_file = open('psfgen.tcl','w')\n",
        "com_file.write('''\n",
        "#psfgen for a single-chained protein with a ligand bound\n",
        "mol delete all\n",
        "mol load pdb complex.pdb\n",
        "set bad [atomselect top \"resname ACE\"]\n",
        "if {[info exists bad]} {\n",
        "set chainB [atomselect top \"protein and not hydrogen and not resname ACE NME\"]\n",
        "set chainX [atomselect top \"residuetype nothing and not resname ACE NME\"]\n",
        "set flag 1\n",
        "} else {\n",
        "set chainB [atomselect top \"protein and not hydrogen\"]\n",
        "set chainX [atomselect top \"residuetype nothing\"]\n",
        "set flag 0}\n",
        "$chainB writepdb chainB.pdb\n",
        "$chainX writepdb chainX.pdb\n",
        "package require psfgen\n",
        "topology top_all36_prot.rtf\n",
        "topology UNK_A73DB4.rtf\n",
        "pdbalias HIS HSD\n",
        "pdbalias atom SER HG HG1\n",
        "pdbalias residue HIS HSE\n",
        "pdbalias atom ILE CD1 CD\n",
        "if {$flag == 1} {\n",
        "segment B {\n",
        "  first ACE\n",
        "  last CT3\n",
        "  pdb chainB.pdb\n",
        "}\n",
        "} else {\n",
        "segment B {\n",
        "  first NONE\n",
        "  last NONE\n",
        "  pdb chainB.pdb\n",
        "}\n",
        "}\n",
        "segment X {\n",
        "  first NONE\n",
        "  last NONE\n",
        "  pdb chainX.pdb\n",
        "}\n",
        "coordpdb chainB.pdb B\n",
        "coordpdb chainX.pdb X\n",
        "guesscoord\n",
        "regenerate angles dihedrals\n",
        "writepdb psf-complex.pdb\n",
        "writepsf psf-complex.psf\n",
        "exit\n",
        "''')\n",
        "com_file.close()\n",
        "!vmd -dispdev text -e psfgen.tcl"
      ]
    },
    {
      "cell_type": "markdown",
      "metadata": {
        "id": "pEKsAMAu_pWA"
      },
      "source": [
        "# Solvate the Complex and add ions "
      ]
    },
    {
      "cell_type": "code",
      "execution_count": null,
      "metadata": {
        "id": "rcQ5c9rU_pWA",
        "outputId": "3050b444-d485-4c83-ee08-073f8fd9a866",
        "colab": {
          "base_uri": "https://localhost:8080/"
        }
      },
      "outputs": [
        {
          "output_type": "stream",
          "name": "stdout",
          "text": [
            "/bin/bash: vmd: command not found\n"
          ]
        }
      ],
      "source": [
        "com_file = open('solvate.tcl','w')\n",
        "com_file.write('''\n",
        "package require solvate  \n",
        "solvate psf-complex.psf psf-complex.pdb -t 15 -o complex_wb \n",
        "package require autoionize\n",
        "autoionize -psf complex_wb.psf -pdb complex_wb.pdb -sc 0.15 -cation SOD -o ionized \n",
        "exit\n",
        "''')\n",
        "com_file.close()\n",
        "!vmd -dispdev text -e solvate.tcl"
      ]
    },
    {
      "cell_type": "markdown",
      "metadata": {
        "id": "nDPG6-Up_pWB"
      },
      "source": [
        "# (Optional, you can skip this) Make restrain on alpha carbon of protein."
      ]
    },
    {
      "cell_type": "code",
      "execution_count": null,
      "metadata": {
        "id": "VEzVJS7W_pWB",
        "outputId": "f890f2ff-200a-4845-e0aa-0baaffd48897",
        "colab": {
          "base_uri": "https://localhost:8080/"
        }
      },
      "outputs": [
        {
          "output_type": "stream",
          "name": "stdout",
          "text": [
            "/bin/bash: vmd: command not found\n"
          ]
        }
      ],
      "source": [
        "com_file = open('restrain.tcl','w')\n",
        "com_file.write('''\n",
        "mol delete all\n",
        "mol load pdb ionized.pdb\n",
        "set all [atomselect top \"all\"]\n",
        "set sel [atomselect top \"protein and name CA\"]\n",
        "$all set beta 0\n",
        "$sel set beta 1\n",
        "$all writepdb restrained.pdb\n",
        "exit\n",
        "''')\n",
        "com_file.close()\n",
        "!vmd -dispdev text -e restrain.tcl"
      ]
    },
    {
      "cell_type": "markdown",
      "metadata": {
        "id": "gXplpwUm_pWB"
      },
      "source": [
        "# Measure the water box dimensions"
      ]
    },
    {
      "cell_type": "code",
      "execution_count": null,
      "metadata": {
        "id": "4KalteNF_pWC",
        "outputId": "6b1748a7-df69-4fed-b8e9-8360d3b7e1cb",
        "colab": {
          "base_uri": "https://localhost:8080/"
        }
      },
      "outputs": [
        {
          "output_type": "stream",
          "name": "stdout",
          "text": [
            "/bin/bash: vmd: command not found\n"
          ]
        }
      ],
      "source": [
        "com_file = open('measure.tcl','w')\n",
        "com_file.write('''\n",
        "mol delete all\n",
        "mol load pdb ionized.pdb\n",
        "set ubq [atomselect top all]\n",
        "measure minmax $ubq   \n",
        "measure center $ubq \n",
        "''')\n",
        "com_file.close()\n",
        "!vmd -dispdev text -e measure.tcl"
      ]
    },
    {
      "cell_type": "code",
      "source": [
        "Then up until here, I just want to use ionized.pdb and ionized.psf for input as BFEE2."
      ],
      "metadata": {
        "id": "D_FeQmrINAyP"
      },
      "execution_count": null,
      "outputs": []
    },
    {
      "cell_type": "code",
      "source": [
        ""
      ],
      "metadata": {
        "id": "wZ3y71j4NIYl"
      },
      "execution_count": null,
      "outputs": []
    },
    {
      "cell_type": "code",
      "source": [
        "from google.colab import drive\n",
        "drive.mount('/content/drive')"
      ],
      "metadata": {
        "id": "0ov0jBKSNKFh",
        "outputId": "9474bb1e-38b6-44d9-c048-973051bc6264",
        "colab": {
          "base_uri": "https://localhost:8080/"
        }
      },
      "execution_count": null,
      "outputs": [
        {
          "output_type": "stream",
          "name": "stdout",
          "text": [
            "Mounted at /content/drive\n"
          ]
        }
      ]
    },
    {
      "cell_type": "markdown",
      "metadata": {
        "id": "hXMLuFXb_pWC"
      },
      "source": [
        "# Modify NAMD configuration files"
      ]
    },
    {
      "cell_type": "markdown",
      "metadata": {
        "id": "MjCvT4Ts_pWC"
      },
      "source": [
        "# Three parts in nvt.namd need modification, same for npt.namd"
      ]
    },
    {
      "cell_type": "code",
      "execution_count": null,
      "metadata": {
        "id": "dmpzmOcq_pWC"
      },
      "outputs": [],
      "source": [
        "# Periodic Boundary Conditions\n",
        "cellBasisVector1 ? 0 0\n",
        "cellBasisVector2 0 ? 0\n",
        "cellBasisVector3 0 0 ?\n",
        "cellOrigin ? ? ?\n",
        "wrapAll on\n",
        "# PME (for full-system periodic electrostatics)\n",
        "PME yes\n",
        "PMEGridSizeX ? ;# product of 2,3,5, slightly bigger than box vector\n",
        "PMEGridSizeY ? ;# product of 2,3,5\n",
        "PMEGridSizeZ ? ;# product of 2,3,5"
      ]
    },
    {
      "cell_type": "code",
      "execution_count": null,
      "metadata": {
        "id": "j3DV1Gmt_pWD"
      },
      "outputs": [],
      "source": [
        "paraTypeCharmm on\n",
        "\n",
        "parameters                        top_all36_prot.prm\n",
        "parameters                        ???????????\n",
        "parameters                        toppar_water_ions.mod.str"
      ]
    },
    {
      "cell_type": "code",
      "execution_count": null,
      "metadata": {
        "id": "CC7odY05_pWD"
      },
      "outputs": [],
      "source": [
        "run ???????? ;# 5000ps"
      ]
    },
    {
      "cell_type": "markdown",
      "metadata": {
        "id": "7k-ERoej_pWD"
      },
      "source": [
        "# Run the simulation (This assume you have installed namd)"
      ]
    },
    {
      "cell_type": "code",
      "source": [
        "!wget https://www.ks.uiuc.edu/Research/namd/alpha/3.0alpha/download/NAMD_3.0alpha8_Linux-x86_64-multicore-CUDA-SingleNode.tar.gz"
      ],
      "metadata": {
        "id": "lJ7jNC8AO1pz",
        "outputId": "43d31d02-aac8-42b6-f7e9-38fecf266170",
        "colab": {
          "base_uri": "https://localhost:8080/"
        }
      },
      "execution_count": null,
      "outputs": [
        {
          "output_type": "stream",
          "name": "stdout",
          "text": [
            "--2022-06-07 23:51:51--  https://www.ks.uiuc.edu/Research/namd/alpha/3.0alpha/download/NAMD_3.0alpha8_Linux-x86_64-multicore-CUDA-SingleNode.tar.gz\n",
            "Resolving www.ks.uiuc.edu (www.ks.uiuc.edu)... 130.126.120.43\n",
            "Connecting to www.ks.uiuc.edu (www.ks.uiuc.edu)|130.126.120.43|:443... connected.\n",
            "HTTP request sent, awaiting response... 200 OK\n",
            "Length: 217898714 (208M) [application/x-gzip]\n",
            "Saving to: ‘NAMD_3.0alpha8_Linux-x86_64-multicore-CUDA-SingleNode.tar.gz’\n",
            "\n",
            "NAMD_3.0alpha8_Linu 100%[===================>] 207.80M  86.8MB/s    in 2.4s    \n",
            "\n",
            "2022-06-07 23:51:57 (86.8 MB/s) - ‘NAMD_3.0alpha8_Linux-x86_64-multicore-CUDA-SingleNode.tar.gz’ saved [217898714/217898714]\n",
            "\n"
          ]
        }
      ]
    },
    {
      "cell_type": "code",
      "source": [
        "!!tar -xvf NAMD_3.0alpha8_Linux-x86_64-multicore-CUDA-SingleNode.tar.gz"
      ],
      "metadata": {
        "id": "-K8Aac0dO9tM",
        "colab": {
          "base_uri": "https://localhost:8080/"
        },
        "outputId": "0fe66a9f-fa99-4c62-9665-d0fcbacc3021"
      },
      "execution_count": null,
      "outputs": [
        {
          "output_type": "execute_result",
          "data": {
            "text/plain": [
              "['NAMD_3.0alpha8_Linux-x86_64-multicore-CUDA/',\n",
              " 'NAMD_3.0alpha8_Linux-x86_64-multicore-CUDA/lib/',\n",
              " 'NAMD_3.0alpha8_Linux-x86_64-multicore-CUDA/lib/abf/',\n",
              " 'NAMD_3.0alpha8_Linux-x86_64-multicore-CUDA/lib/abf/zCoord.tcl',\n",
              " 'NAMD_3.0alpha8_Linux-x86_64-multicore-CUDA/lib/abf/distance-com.tcl',\n",
              " 'NAMD_3.0alpha8_Linux-x86_64-multicore-CUDA/lib/abf/vectors.tcl',\n",
              " 'NAMD_3.0alpha8_Linux-x86_64-multicore-CUDA/lib/abf/distance.tcl',\n",
              " 'NAMD_3.0alpha8_Linux-x86_64-multicore-CUDA/lib/abf/abscissa.tcl',\n",
              " 'NAMD_3.0alpha8_Linux-x86_64-multicore-CUDA/lib/abf/pkgIndex.tcl',\n",
              " 'NAMD_3.0alpha8_Linux-x86_64-multicore-CUDA/lib/abf/zCoord-1atom.tcl',\n",
              " 'NAMD_3.0alpha8_Linux-x86_64-multicore-CUDA/lib/abf/xyDistance.tcl',\n",
              " 'NAMD_3.0alpha8_Linux-x86_64-multicore-CUDA/lib/abf/abf_script.tcl',\n",
              " 'NAMD_3.0alpha8_Linux-x86_64-multicore-CUDA/lib/abf/abf.tcl',\n",
              " 'NAMD_3.0alpha8_Linux-x86_64-multicore-CUDA/lib/replica/',\n",
              " 'NAMD_3.0alpha8_Linux-x86_64-multicore-CUDA/lib/replica/README.txt',\n",
              " 'NAMD_3.0alpha8_Linux-x86_64-multicore-CUDA/lib/replica/FEP_wca/',\n",
              " 'NAMD_3.0alpha8_Linux-x86_64-multicore-CUDA/lib/replica/FEP_wca/readme.txt',\n",
              " 'NAMD_3.0alpha8_Linux-x86_64-multicore-CUDA/lib/replica/FEP_wca/solv_benz_namd.psf',\n",
              " 'NAMD_3.0alpha8_Linux-x86_64-multicore-CUDA/lib/replica/FEP_wca/par_all22_prot_cmap.inp',\n",
              " 'NAMD_3.0alpha8_Linux-x86_64-multicore-CUDA/lib/replica/FEP_wca/solv_benz_namd.pdb',\n",
              " 'NAMD_3.0alpha8_Linux-x86_64-multicore-CUDA/lib/replica/FEP_wca/fep_solv_base.namd',\n",
              " 'NAMD_3.0alpha8_Linux-x86_64-multicore-CUDA/lib/replica/FEP_wca/fep_solv.conf',\n",
              " 'NAMD_3.0alpha8_Linux-x86_64-multicore-CUDA/lib/replica/FEP_wca/solv_benz.fep',\n",
              " 'NAMD_3.0alpha8_Linux-x86_64-multicore-CUDA/lib/replica/FEP_wca/wham/',\n",
              " 'NAMD_3.0alpha8_Linux-x86_64-multicore-CUDA/lib/replica/FEP_wca/wham/fep_solv.conf',\n",
              " 'NAMD_3.0alpha8_Linux-x86_64-multicore-CUDA/lib/replica/FEP_wca/wham/sort-data-fe.cpp',\n",
              " 'NAMD_3.0alpha8_Linux-x86_64-multicore-CUDA/lib/replica/FEP_wca/wham/sum_fe.pl',\n",
              " 'NAMD_3.0alpha8_Linux-x86_64-multicore-CUDA/lib/replica/FEP_wca/wham/get_fe.sh',\n",
              " 'NAMD_3.0alpha8_Linux-x86_64-multicore-CUDA/lib/replica/FEP_wca/wham/wham-fep.cpp',\n",
              " 'NAMD_3.0alpha8_Linux-x86_64-multicore-CUDA/lib/replica/FEP_wca/wham/wham_fe.sh',\n",
              " 'NAMD_3.0alpha8_Linux-x86_64-multicore-CUDA/lib/replica/FEP_wca/wham/extract-repul.cpp',\n",
              " 'NAMD_3.0alpha8_Linux-x86_64-multicore-CUDA/lib/replica/FEP_wca/wham/wham_data_solv.sh',\n",
              " 'NAMD_3.0alpha8_Linux-x86_64-multicore-CUDA/lib/replica/umbrella.namd',\n",
              " 'NAMD_3.0alpha8_Linux-x86_64-multicore-CUDA/lib/replica/replica.namd',\n",
              " 'NAMD_3.0alpha8_Linux-x86_64-multicore-CUDA/lib/replica/example/',\n",
              " 'NAMD_3.0alpha8_Linux-x86_64-multicore-CUDA/lib/replica/example/alanin_base.namd',\n",
              " 'NAMD_3.0alpha8_Linux-x86_64-multicore-CUDA/lib/replica/example/mplexjob0.conf',\n",
              " 'NAMD_3.0alpha8_Linux-x86_64-multicore-CUDA/lib/replica/example/mplexjob1.conf',\n",
              " 'NAMD_3.0alpha8_Linux-x86_64-multicore-CUDA/lib/replica/example/fold_alanin.conf',\n",
              " 'NAMD_3.0alpha8_Linux-x86_64-multicore-CUDA/lib/replica/example/alanin.psf',\n",
              " 'NAMD_3.0alpha8_Linux-x86_64-multicore-CUDA/lib/replica/example/job0.conf',\n",
              " 'NAMD_3.0alpha8_Linux-x86_64-multicore-CUDA/lib/replica/example/unfolded.pdb',\n",
              " 'NAMD_3.0alpha8_Linux-x86_64-multicore-CUDA/lib/replica/example/alanin.params',\n",
              " 'NAMD_3.0alpha8_Linux-x86_64-multicore-CUDA/lib/replica/example/alanin.pdb',\n",
              " 'NAMD_3.0alpha8_Linux-x86_64-multicore-CUDA/lib/replica/example/load_all.vmd',\n",
              " 'NAMD_3.0alpha8_Linux-x86_64-multicore-CUDA/lib/replica/example/job1.conf',\n",
              " 'NAMD_3.0alpha8_Linux-x86_64-multicore-CUDA/lib/replica/REST2/',\n",
              " 'NAMD_3.0alpha8_Linux-x86_64-multicore-CUDA/lib/replica/REST2/README',\n",
              " 'NAMD_3.0alpha8_Linux-x86_64-multicore-CUDA/lib/replica/REST2/aaqaa3_rest2_base.namd',\n",
              " 'NAMD_3.0alpha8_Linux-x86_64-multicore-CUDA/lib/replica/REST2/init.conf',\n",
              " 'NAMD_3.0alpha8_Linux-x86_64-multicore-CUDA/lib/replica/REST2/restart_1.conf',\n",
              " 'NAMD_3.0alpha8_Linux-x86_64-multicore-CUDA/lib/replica/REST2/aaqaa3.spt',\n",
              " 'NAMD_3.0alpha8_Linux-x86_64-multicore-CUDA/lib/replica/REST2/equinpt.coor',\n",
              " 'NAMD_3.0alpha8_Linux-x86_64-multicore-CUDA/lib/replica/REST2/aaqaa3_rest2_test.namd',\n",
              " 'NAMD_3.0alpha8_Linux-x86_64-multicore-CUDA/lib/replica/REST2/aaqaa3_1_xplor.psf',\n",
              " 'NAMD_3.0alpha8_Linux-x86_64-multicore-CUDA/lib/replica/REST2/par_all36_prot_tip3.prm',\n",
              " 'NAMD_3.0alpha8_Linux-x86_64-multicore-CUDA/lib/replica/REST2/aaqaa3_solvate.pdb',\n",
              " 'NAMD_3.0alpha8_Linux-x86_64-multicore-CUDA/lib/replica/REST2/rest2_remd.namd',\n",
              " 'NAMD_3.0alpha8_Linux-x86_64-multicore-CUDA/lib/replica/REST2/equinpt.xsc',\n",
              " 'NAMD_3.0alpha8_Linux-x86_64-multicore-CUDA/lib/replica/clone_reps.vmd',\n",
              " 'NAMD_3.0alpha8_Linux-x86_64-multicore-CUDA/lib/replica/show_replicas.vmd',\n",
              " 'NAMD_3.0alpha8_Linux-x86_64-multicore-CUDA/lib/replica/umbrella_mplex.namd',\n",
              " 'NAMD_3.0alpha8_Linux-x86_64-multicore-CUDA/lib/replica/umbrella/',\n",
              " 'NAMD_3.0alpha8_Linux-x86_64-multicore-CUDA/lib/replica/umbrella/mplexjob0.conf',\n",
              " 'NAMD_3.0alpha8_Linux-x86_64-multicore-CUDA/lib/replica/umbrella/stretch_alanin.conf',\n",
              " 'NAMD_3.0alpha8_Linux-x86_64-multicore-CUDA/lib/replica/umbrella/job0.conf',\n",
              " 'NAMD_3.0alpha8_Linux-x86_64-multicore-CUDA/lib/replica/umbrella/input/',\n",
              " 'NAMD_3.0alpha8_Linux-x86_64-multicore-CUDA/lib/replica/umbrella/input/alanin.initial.7.coor',\n",
              " 'NAMD_3.0alpha8_Linux-x86_64-multicore-CUDA/lib/replica/umbrella/input/alanin.initial.10.xsc',\n",
              " 'NAMD_3.0alpha8_Linux-x86_64-multicore-CUDA/lib/replica/umbrella/input/alanin.initial.2.vel',\n",
              " 'NAMD_3.0alpha8_Linux-x86_64-multicore-CUDA/lib/replica/umbrella/input/alanin.initial.5.vel',\n",
              " 'NAMD_3.0alpha8_Linux-x86_64-multicore-CUDA/lib/replica/umbrella/input/alanin.initial.3.coor',\n",
              " 'NAMD_3.0alpha8_Linux-x86_64-multicore-CUDA/lib/replica/umbrella/input/alanin.initial.4.xsc',\n",
              " 'NAMD_3.0alpha8_Linux-x86_64-multicore-CUDA/lib/replica/umbrella/input/alanin.initial.3.xsc',\n",
              " 'NAMD_3.0alpha8_Linux-x86_64-multicore-CUDA/lib/replica/umbrella/input/alanin.initial.12.coor',\n",
              " 'NAMD_3.0alpha8_Linux-x86_64-multicore-CUDA/lib/replica/umbrella/input/alanin.initial.11.vel',\n",
              " 'NAMD_3.0alpha8_Linux-x86_64-multicore-CUDA/lib/replica/umbrella/input/alanin.initial.4.vel',\n",
              " 'NAMD_3.0alpha8_Linux-x86_64-multicore-CUDA/lib/replica/umbrella/input/alanin.initial.3.vel',\n",
              " 'NAMD_3.0alpha8_Linux-x86_64-multicore-CUDA/lib/replica/umbrella/input/alanin.initial.11.xsc',\n",
              " 'NAMD_3.0alpha8_Linux-x86_64-multicore-CUDA/lib/replica/umbrella/input/alanin.initial.13.coor',\n",
              " 'NAMD_3.0alpha8_Linux-x86_64-multicore-CUDA/lib/replica/umbrella/input/alanin.initial.10.vel',\n",
              " 'NAMD_3.0alpha8_Linux-x86_64-multicore-CUDA/lib/replica/umbrella/input/alanin.initial.6.coor',\n",
              " 'NAMD_3.0alpha8_Linux-x86_64-multicore-CUDA/lib/replica/umbrella/input/alanin.initial.2.xsc',\n",
              " 'NAMD_3.0alpha8_Linux-x86_64-multicore-CUDA/lib/replica/umbrella/input/alanin.initial.2.coor',\n",
              " 'NAMD_3.0alpha8_Linux-x86_64-multicore-CUDA/lib/replica/umbrella/input/alanin.initial.5.xsc',\n",
              " 'NAMD_3.0alpha8_Linux-x86_64-multicore-CUDA/lib/replica/umbrella/input/alanin.initial.13.vel',\n",
              " 'NAMD_3.0alpha8_Linux-x86_64-multicore-CUDA/lib/replica/umbrella/input/alanin.initial.14.vel',\n",
              " 'NAMD_3.0alpha8_Linux-x86_64-multicore-CUDA/lib/replica/umbrella/input/alanin.initial.15.coor',\n",
              " 'NAMD_3.0alpha8_Linux-x86_64-multicore-CUDA/lib/replica/umbrella/input/alanin.initial.8.xsc',\n",
              " 'NAMD_3.0alpha8_Linux-x86_64-multicore-CUDA/lib/replica/umbrella/input/alanin.initial.8.coor',\n",
              " 'NAMD_3.0alpha8_Linux-x86_64-multicore-CUDA/lib/replica/umbrella/input/alanin.initial.6.xsc',\n",
              " 'NAMD_3.0alpha8_Linux-x86_64-multicore-CUDA/lib/replica/umbrella/input/alanin.initial.11.coor',\n",
              " 'NAMD_3.0alpha8_Linux-x86_64-multicore-CUDA/lib/replica/umbrella/input/alanin.initial.1.xsc',\n",
              " 'NAMD_3.0alpha8_Linux-x86_64-multicore-CUDA/lib/replica/umbrella/input/alanin.initial.9.vel',\n",
              " 'NAMD_3.0alpha8_Linux-x86_64-multicore-CUDA/lib/replica/umbrella/input/alanin.initial.0.vel',\n",
              " 'NAMD_3.0alpha8_Linux-x86_64-multicore-CUDA/lib/replica/umbrella/input/alanin.initial.4.coor',\n",
              " 'NAMD_3.0alpha8_Linux-x86_64-multicore-CUDA/lib/replica/umbrella/input/alanin.initial.7.vel',\n",
              " 'NAMD_3.0alpha8_Linux-x86_64-multicore-CUDA/lib/replica/umbrella/input/alanin.initial.15.xsc',\n",
              " 'NAMD_3.0alpha8_Linux-x86_64-multicore-CUDA/lib/replica/umbrella/input/alanin.initial.12.xsc',\n",
              " 'NAMD_3.0alpha8_Linux-x86_64-multicore-CUDA/lib/replica/umbrella/input/alanin.initial.0.coor',\n",
              " 'NAMD_3.0alpha8_Linux-x86_64-multicore-CUDA/lib/replica/umbrella/input/alanin.initial.0.xsc',\n",
              " 'NAMD_3.0alpha8_Linux-x86_64-multicore-CUDA/lib/replica/umbrella/input/alanin.initial.7.xsc',\n",
              " 'NAMD_3.0alpha8_Linux-x86_64-multicore-CUDA/lib/replica/umbrella/input/alanin.initial.9.xsc',\n",
              " 'NAMD_3.0alpha8_Linux-x86_64-multicore-CUDA/lib/replica/umbrella/input/alanin.initial.5.coor',\n",
              " 'NAMD_3.0alpha8_Linux-x86_64-multicore-CUDA/lib/replica/umbrella/input/alanin.initial.15.vel',\n",
              " 'NAMD_3.0alpha8_Linux-x86_64-multicore-CUDA/lib/replica/umbrella/input/alanin.initial.12.vel',\n",
              " 'NAMD_3.0alpha8_Linux-x86_64-multicore-CUDA/lib/replica/umbrella/input/alanin.initial.1.coor',\n",
              " 'NAMD_3.0alpha8_Linux-x86_64-multicore-CUDA/lib/replica/umbrella/input/alanin.initial.13.xsc',\n",
              " 'NAMD_3.0alpha8_Linux-x86_64-multicore-CUDA/lib/replica/umbrella/input/alanin.initial.14.xsc',\n",
              " 'NAMD_3.0alpha8_Linux-x86_64-multicore-CUDA/lib/replica/umbrella/input/alanin.initial.14.coor',\n",
              " 'NAMD_3.0alpha8_Linux-x86_64-multicore-CUDA/lib/replica/umbrella/input/alanin.initial.6.vel',\n",
              " 'NAMD_3.0alpha8_Linux-x86_64-multicore-CUDA/lib/replica/umbrella/input/alanin.initial.1.vel',\n",
              " 'NAMD_3.0alpha8_Linux-x86_64-multicore-CUDA/lib/replica/umbrella/input/alanin.initial.9.coor',\n",
              " 'NAMD_3.0alpha8_Linux-x86_64-multicore-CUDA/lib/replica/umbrella/input/alanin.initial.10.coor',\n",
              " 'NAMD_3.0alpha8_Linux-x86_64-multicore-CUDA/lib/replica/umbrella/input/alanin.initial.8.vel',\n",
              " 'NAMD_3.0alpha8_Linux-x86_64-multicore-CUDA/lib/replica/umbrella/alanin.pdb',\n",
              " 'NAMD_3.0alpha8_Linux-x86_64-multicore-CUDA/lib/replica/umbrella/alanin.params',\n",
              " 'NAMD_3.0alpha8_Linux-x86_64-multicore-CUDA/lib/replica/umbrella/alanin.psf',\n",
              " 'NAMD_3.0alpha8_Linux-x86_64-multicore-CUDA/lib/replica/umbrella/job1.conf',\n",
              " 'NAMD_3.0alpha8_Linux-x86_64-multicore-CUDA/lib/replica/umbrella/colvars.conf',\n",
              " 'NAMD_3.0alpha8_Linux-x86_64-multicore-CUDA/lib/replica/umbrella/mplexjob1.conf',\n",
              " 'NAMD_3.0alpha8_Linux-x86_64-multicore-CUDA/lib/replica/umbrella/alanin_base.namd',\n",
              " 'NAMD_3.0alpha8_Linux-x86_64-multicore-CUDA/lib/replica/make_output_dirs.sh',\n",
              " 'NAMD_3.0alpha8_Linux-x86_64-multicore-CUDA/lib/replica/multiplex.namd',\n",
              " 'NAMD_3.0alpha8_Linux-x86_64-multicore-CUDA/lib/replica/replica_util.namd',\n",
              " 'NAMD_3.0alpha8_Linux-x86_64-multicore-CUDA/lib/replica/umbrella2d/',\n",
              " 'NAMD_3.0alpha8_Linux-x86_64-multicore-CUDA/lib/replica/umbrella2d/stretch_alanin.conf',\n",
              " 'NAMD_3.0alpha8_Linux-x86_64-multicore-CUDA/lib/replica/umbrella2d/colvars.conf',\n",
              " 'NAMD_3.0alpha8_Linux-x86_64-multicore-CUDA/lib/replica/umbrella2d/alanin.pdb',\n",
              " 'NAMD_3.0alpha8_Linux-x86_64-multicore-CUDA/lib/replica/umbrella2d/alanin.params',\n",
              " 'NAMD_3.0alpha8_Linux-x86_64-multicore-CUDA/lib/replica/umbrella2d/alanin.psf',\n",
              " 'NAMD_3.0alpha8_Linux-x86_64-multicore-CUDA/lib/replica/umbrella2d/mplexjob0.conf',\n",
              " 'NAMD_3.0alpha8_Linux-x86_64-multicore-CUDA/lib/replica/umbrella2d/job1.conf',\n",
              " 'NAMD_3.0alpha8_Linux-x86_64-multicore-CUDA/lib/replica/umbrella2d/job0.conf',\n",
              " 'NAMD_3.0alpha8_Linux-x86_64-multicore-CUDA/lib/replica/umbrella2d/alanin_base.namd',\n",
              " 'NAMD_3.0alpha8_Linux-x86_64-multicore-CUDA/lib/replica/umbrella2d/mplexjob1.conf',\n",
              " 'NAMD_3.0alpha8_Linux-x86_64-multicore-CUDA/lib/replica/FEP_wca.namd',\n",
              " 'NAMD_3.0alpha8_Linux-x86_64-multicore-CUDA/lib/colvars/',\n",
              " 'NAMD_3.0alpha8_Linux-x86_64-multicore-CUDA/lib/colvars/test_scripted_gradients.tcl',\n",
              " 'NAMD_3.0alpha8_Linux-x86_64-multicore-CUDA/lib/colvars/pathCV.tcl',\n",
              " 'NAMD_3.0alpha8_Linux-x86_64-multicore-CUDA/lib/qmmm/',\n",
              " 'NAMD_3.0alpha8_Linux-x86_64-multicore-CUDA/lib/qmmm/run_terachem.py',\n",
              " 'NAMD_3.0alpha8_Linux-x86_64-multicore-CUDA/lib/qmmm/cleanFolder.sh',\n",
              " 'NAMD_3.0alpha8_Linux-x86_64-multicore-CUDA/lib/qmmm/run_gaussian.py',\n",
              " 'NAMD_3.0alpha8_Linux-x86_64-multicore-CUDA/lib/qmmm/saveDipole.sh',\n",
              " 'NAMD_3.0alpha8_Linux-x86_64-multicore-CUDA/lib/qmmm/run_qchem.py',\n",
              " 'NAMD_3.0alpha8_Linux-x86_64-multicore-CUDA/lib/qmmm/runORCA.py',\n",
              " 'NAMD_3.0alpha8_Linux-x86_64-multicore-CUDA/lib/qmmm/orcaviewer.tcl',\n",
              " 'NAMD_3.0alpha8_Linux-x86_64-multicore-CUDA/lib/eabf/',\n",
              " 'NAMD_3.0alpha8_Linux-x86_64-multicore-CUDA/lib/eabf/example/',\n",
              " 'NAMD_3.0alpha8_Linux-x86_64-multicore-CUDA/lib/eabf/example/CH_final.pdb',\n",
              " 'NAMD_3.0alpha8_Linux-x86_64-multicore-CUDA/lib/eabf/example/co.in',\n",
              " 'NAMD_3.0alpha8_Linux-x86_64-multicore-CUDA/lib/eabf/example/CH_final.psf',\n",
              " 'NAMD_3.0alpha8_Linux-x86_64-multicore-CUDA/lib/eabf/example/CH_cgenff.prm',\n",
              " 'NAMD_3.0alpha8_Linux-x86_64-multicore-CUDA/lib/eabf/example/abf.namd',\n",
              " 'NAMD_3.0alpha8_Linux-x86_64-multicore-CUDA/lib/eabf/eabf.tcl',\n",
              " 'NAMD_3.0alpha8_Linux-x86_64-multicore-CUDA/lib/ramd-5/',\n",
              " 'NAMD_3.0alpha8_Linux-x86_64-multicore-CUDA/lib/ramd-5/examples/',\n",
              " 'NAMD_3.0alpha8_Linux-x86_64-multicore-CUDA/lib/ramd-5/examples/DCL/',\n",
              " 'NAMD_3.0alpha8_Linux-x86_64-multicore-CUDA/lib/ramd-5/examples/DCL/README.examples',\n",
              " 'NAMD_3.0alpha8_Linux-x86_64-multicore-CUDA/lib/ramd-5/examples/DCL/RAMD-force.sh',\n",
              " 'NAMD_3.0alpha8_Linux-x86_64-multicore-CUDA/lib/ramd-5/examples/README',\n",
              " 'NAMD_3.0alpha8_Linux-x86_64-multicore-CUDA/lib/ramd-5/examples/1WDHI/',\n",
              " 'NAMD_3.0alpha8_Linux-x86_64-multicore-CUDA/lib/ramd-5/examples/1WDHI/RAMD-force.sh',\n",
              " 'NAMD_3.0alpha8_Linux-x86_64-multicore-CUDA/lib/ramd-5/scripts/',\n",
              " 'NAMD_3.0alpha8_Linux-x86_64-multicore-CUDA/lib/ramd-5/scripts/README',\n",
              " 'NAMD_3.0alpha8_Linux-x86_64-multicore-CUDA/lib/ramd-5/scripts/ramd-5_script.tcl',\n",
              " 'NAMD_3.0alpha8_Linux-x86_64-multicore-CUDA/lib/ramd-5/scripts/testRand.dat',\n",
              " 'NAMD_3.0alpha8_Linux-x86_64-multicore-CUDA/lib/ramd-5/scripts/testRand.tcl',\n",
              " 'NAMD_3.0alpha8_Linux-x86_64-multicore-CUDA/lib/ramd-5/scripts/ramd-5.tcl',\n",
              " 'NAMD_3.0alpha8_Linux-x86_64-multicore-CUDA/lib/ramd-5/README',\n",
              " 'NAMD_3.0alpha8_Linux-x86_64-multicore-CUDA/lib/alch/',\n",
              " 'NAMD_3.0alpha8_Linux-x86_64-multicore-CUDA/lib/alch/deinterleave_idws.py',\n",
              " 'NAMD_3.0alpha8_Linux-x86_64-multicore-CUDA/lib/alch/README.txt',\n",
              " 'NAMD_3.0alpha8_Linux-x86_64-multicore-CUDA/lib/alch/fep.tcl',\n",
              " 'NAMD_3.0alpha8_Linux-x86_64-multicore-CUDA/lib/init.tcl',\n",
              " 'NAMD_3.0alpha8_Linux-x86_64-multicore-CUDA/lib/abf_integrate/',\n",
              " 'NAMD_3.0alpha8_Linux-x86_64-multicore-CUDA/lib/abf_integrate/abf_data.h',\n",
              " 'NAMD_3.0alpha8_Linux-x86_64-multicore-CUDA/lib/abf_integrate/Makefile',\n",
              " 'NAMD_3.0alpha8_Linux-x86_64-multicore-CUDA/lib/abf_integrate/abf_integrate.cpp',\n",
              " 'NAMD_3.0alpha8_Linux-x86_64-multicore-CUDA/lib/abf_integrate/abf_data.cpp',\n",
              " 'NAMD_3.0alpha8_Linux-x86_64-multicore-CUDA/lib/namdcph/',\n",
              " 'NAMD_3.0alpha8_Linux-x86_64-multicore-CUDA/lib/namdcph/examples/',\n",
              " 'NAMD_3.0alpha8_Linux-x86_64-multicore-CUDA/lib/namdcph/examples/bbl/',\n",
              " 'NAMD_3.0alpha8_Linux-x86_64-multicore-CUDA/lib/namdcph/examples/bbl/bbl.namd',\n",
              " 'NAMD_3.0alpha8_Linux-x86_64-multicore-CUDA/lib/namdcph/examples/bbl/topology/',\n",
              " 'NAMD_3.0alpha8_Linux-x86_64-multicore-CUDA/lib/namdcph/examples/bbl/topology/bbl.pdb',\n",
              " 'NAMD_3.0alpha8_Linux-x86_64-multicore-CUDA/lib/namdcph/examples/bbl/topology/bbl.psf',\n",
              " 'NAMD_3.0alpha8_Linux-x86_64-multicore-CUDA/lib/namdcph/examples/bbl/topology/bbl.xsc',\n",
              " 'NAMD_3.0alpha8_Linux-x86_64-multicore-CUDA/lib/namdcph/examples/ace/',\n",
              " 'NAMD_3.0alpha8_Linux-x86_64-multicore-CUDA/lib/namdcph/examples/ace/ace_restart.namd',\n",
              " 'NAMD_3.0alpha8_Linux-x86_64-multicore-CUDA/lib/namdcph/examples/ace/ace.namd',\n",
              " 'NAMD_3.0alpha8_Linux-x86_64-multicore-CUDA/lib/namdcph/examples/ace/topology/',\n",
              " 'NAMD_3.0alpha8_Linux-x86_64-multicore-CUDA/lib/namdcph/examples/ace/topology/ace.pdb',\n",
              " 'NAMD_3.0alpha8_Linux-x86_64-multicore-CUDA/lib/namdcph/examples/ace/topology/ace.psf',\n",
              " 'NAMD_3.0alpha8_Linux-x86_64-multicore-CUDA/lib/namdcph/examples/ace/topology/ace.xsc',\n",
              " 'NAMD_3.0alpha8_Linux-x86_64-multicore-CUDA/lib/namdcph/namdcph.tcl',\n",
              " 'NAMD_3.0alpha8_Linux-x86_64-multicore-CUDA/lib/namdcph/namdcph/',\n",
              " 'NAMD_3.0alpha8_Linux-x86_64-multicore-CUDA/lib/namdcph/namdcph/namdmcmc.tcl',\n",
              " 'NAMD_3.0alpha8_Linux-x86_64-multicore-CUDA/lib/namdcph/namdcph/cphtoppar.tcl',\n",
              " 'NAMD_3.0alpha8_Linux-x86_64-multicore-CUDA/lib/namdcph/namdcph/namdtcl.tcl',\n",
              " 'NAMD_3.0alpha8_Linux-x86_64-multicore-CUDA/lib/namdcph/namdcph/json.tcl',\n",
              " 'NAMD_3.0alpha8_Linux-x86_64-multicore-CUDA/lib/namdcph/namdcph/cphpsfgen.tcl',\n",
              " 'NAMD_3.0alpha8_Linux-x86_64-multicore-CUDA/lib/namdcph/namdcph/cphtitrator.tcl',\n",
              " 'NAMD_3.0alpha8_Linux-x86_64-multicore-CUDA/lib/namdcph/namdcph/namdcph.core.tcl',\n",
              " 'NAMD_3.0alpha8_Linux-x86_64-multicore-CUDA/lib/namdcph/namdcph/cphphsampler.tcl',\n",
              " 'NAMD_3.0alpha8_Linux-x86_64-multicore-CUDA/lib/namdcph/namdcph/numtcl.tcl',\n",
              " 'NAMD_3.0alpha8_Linux-x86_64-multicore-CUDA/lib/namdcph/toppar/',\n",
              " 'NAMD_3.0alpha8_Linux-x86_64-multicore-CUDA/lib/namdcph/toppar/conf_cph36_prot.json',\n",
              " 'NAMD_3.0alpha8_Linux-x86_64-multicore-CUDA/lib/namdcph/toppar/par_cph36_prot.prm',\n",
              " 'NAMD_3.0alpha8_Linux-x86_64-multicore-CUDA/lib/namdcph/toppar/top_cph36_cgenff.rtf',\n",
              " 'NAMD_3.0alpha8_Linux-x86_64-multicore-CUDA/lib/namdcph/toppar/toppar_water_ions.str',\n",
              " 'NAMD_3.0alpha8_Linux-x86_64-multicore-CUDA/lib/namdcph/toppar/par_cph36_cgenff.prm',\n",
              " 'NAMD_3.0alpha8_Linux-x86_64-multicore-CUDA/lib/namdcph/toppar/par_all36_prot.prm',\n",
              " 'NAMD_3.0alpha8_Linux-x86_64-multicore-CUDA/lib/namdcph/toppar/conf_cph36_cgenff.json',\n",
              " 'NAMD_3.0alpha8_Linux-x86_64-multicore-CUDA/lib/namdcph/toppar/top_cph36_prot.rtf',\n",
              " 'NAMD_3.0alpha8_Linux-x86_64-multicore-CUDA/lib/ramd-4.1/',\n",
              " 'NAMD_3.0alpha8_Linux-x86_64-multicore-CUDA/lib/ramd-4.1/examples/',\n",
              " 'NAMD_3.0alpha8_Linux-x86_64-multicore-CUDA/lib/ramd-4.1/examples/README.examples',\n",
              " 'NAMD_3.0alpha8_Linux-x86_64-multicore-CUDA/lib/ramd-4.1/examples/run_ramd-md_example.sh',\n",
              " 'NAMD_3.0alpha8_Linux-x86_64-multicore-CUDA/lib/ramd-4.1/examples/run_ramd_example.sh',\n",
              " 'NAMD_3.0alpha8_Linux-x86_64-multicore-CUDA/lib/ramd-4.1/examples/example_ramd-md_output/',\n",
              " 'NAMD_3.0alpha8_Linux-x86_64-multicore-CUDA/lib/ramd-4.1/examples/example_ramd-md_output/example_ramd-md.namdout',\n",
              " 'NAMD_3.0alpha8_Linux-x86_64-multicore-CUDA/lib/ramd-4.1/examples/example_ramd_output/',\n",
              " 'NAMD_3.0alpha8_Linux-x86_64-multicore-CUDA/lib/ramd-4.1/examples/example_ramd_output/example_ramd.namdout',\n",
              " 'NAMD_3.0alpha8_Linux-x86_64-multicore-CUDA/lib/ramd-4.1/README',\n",
              " 'NAMD_3.0alpha8_Linux-x86_64-multicore-CUDA/lib/ramd-4.1/scripts/',\n",
              " 'NAMD_3.0alpha8_Linux-x86_64-multicore-CUDA/lib/ramd-4.1/scripts/vectors.tcl',\n",
              " 'NAMD_3.0alpha8_Linux-x86_64-multicore-CUDA/lib/ramd-4.1/scripts/ramd-4.1_script.tcl',\n",
              " 'NAMD_3.0alpha8_Linux-x86_64-multicore-CUDA/lib/ramd-4.1/scripts/ramd-4.1.tcl',\n",
              " 'NAMD_3.0alpha8_Linux-x86_64-multicore-CUDA/sortreplicas',\n",
              " 'NAMD_3.0alpha8_Linux-x86_64-multicore-CUDA/license.txt',\n",
              " 'NAMD_3.0alpha8_Linux-x86_64-multicore-CUDA/README.txt',\n",
              " 'NAMD_3.0alpha8_Linux-x86_64-multicore-CUDA/flipdcd',\n",
              " 'NAMD_3.0alpha8_Linux-x86_64-multicore-CUDA/psfgen',\n",
              " 'NAMD_3.0alpha8_Linux-x86_64-multicore-CUDA/namd3',\n",
              " 'NAMD_3.0alpha8_Linux-x86_64-multicore-CUDA/charmrun',\n",
              " 'NAMD_3.0alpha8_Linux-x86_64-multicore-CUDA/notes.txt',\n",
              " 'NAMD_3.0alpha8_Linux-x86_64-multicore-CUDA/announce.txt',\n",
              " 'NAMD_3.0alpha8_Linux-x86_64-multicore-CUDA/flipbinpdb']"
            ]
          },
          "metadata": {},
          "execution_count": 3
        }
      ]
    },
    {
      "cell_type": "code",
      "execution_count": null,
      "metadata": {
        "cellView": "form",
        "id": "bRB2815xNyXi"
      },
      "outputs": [],
      "source": [
        "\n",
        "!/content/NAMD-MD/NAMD_3.0alpha8_Linux-x86_64-multicore-CUDA/namd3 +p2 min.namd > min.log\n",
        "#!namd2 +p2 npt.namd > npt.log\n"
      ]
    },
    {
      "cell_type": "code",
      "source": [
        "\n",
        "!/content/NAMD-MD/NAMD_3.0alpha8_Linux-x86_64-multicore-CUDA/namd3 +idlepoll +p2 +devices 0 nvt.namd > nvt.log\n",
        "#!namd2 +p2 npt.namd > npt.log"
      ],
      "metadata": {
        "id": "eILLJU3UQL6f"
      },
      "execution_count": null,
      "outputs": []
    },
    {
      "cell_type": "code",
      "source": [
        "\n",
        "!/content/NAMD-MD/NAMD_3.0alpha8_Linux-x86_64-multicore-CUDA/namd3 +p2 min.namd > min.log\n",
        "#!namd2 +p2 npt.namd > npt.log"
      ],
      "metadata": {
        "id": "zh7pMZg0M_nk",
        "outputId": "b7b56cb2-7e6d-476d-88d2-5f833598a6e3",
        "colab": {
          "base_uri": "https://localhost:8080/"
        }
      },
      "execution_count": null,
      "outputs": [
        {
          "output_type": "stream",
          "name": "stdout",
          "text": [
            "^C\n"
          ]
        }
      ]
    },
    {
      "cell_type": "markdown",
      "source": [
        "# BFEE2 to generate input for FEP calculation."
      ],
      "metadata": {
        "id": "nTsYI3lLoMxa"
      }
    },
    {
      "cell_type": "code",
      "source": [
        "%cd /content/drive/MyDrive/7PQS_Law_library_Alchem/000_eq"
      ],
      "metadata": {
        "colab": {
          "base_uri": "https://localhost:8080/"
        },
        "id": "iNj5-hhdpKTN",
        "outputId": "f11c0af0-3648-4042-be5c-9e8801308ddf"
      },
      "execution_count": null,
      "outputs": [
        {
          "output_type": "stream",
          "name": "stdout",
          "text": [
            "/content/drive/MyDrive/7PQS_Law_library_Alchem/000_eq\n"
          ]
        }
      ]
    },
    {
      "cell_type": "code",
      "source": [
        "!/content/NAMD_3.0alpha8_Linux-x86_64-multicore-CUDA/namd3 +idlepoll +p2 +devices 0 000.1_eq.conf > 000.1_eq.log"
      ],
      "metadata": {
        "colab": {
          "base_uri": "https://localhost:8080/"
        },
        "id": "rpQjBFkaoLx5",
        "outputId": "79c62f34-96a6-4f19-9ca7-c313ded3c9ae"
      },
      "execution_count": null,
      "outputs": [
        {
          "output_type": "stream",
          "name": "stdout",
          "text": [
            "FATAL ERROR: UNABLE TO OPEN .psf FILE ../complex.psf\n"
          ]
        }
      ]
    },
    {
      "cell_type": "code",
      "source": [
        ""
      ],
      "metadata": {
        "id": "X-1KMJoApW1U"
      },
      "execution_count": null,
      "outputs": []
    }
  ],
  "metadata": {
    "accelerator": "GPU",
    "colab": {
      "collapsed_sections": [],
      "name": "NAMD_MD.ipynb",
      "provenance": [],
      "background_execution": "on"
    },
    "kernelspec": {
      "display_name": "Python 3",
      "language": "python",
      "name": "python3"
    },
    "language_info": {
      "codemirror_mode": {
        "name": "ipython",
        "version": 3
      },
      "file_extension": ".py",
      "mimetype": "text/x-python",
      "name": "python",
      "nbconvert_exporter": "python",
      "pygments_lexer": "ipython3",
      "version": "3.8.10"
    }
  },
  "nbformat": 4,
  "nbformat_minor": 0
}